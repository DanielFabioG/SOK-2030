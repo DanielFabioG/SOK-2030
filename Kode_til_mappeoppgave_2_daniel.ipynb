{
 "cells": [
  {
   "cell_type": "code",
   "execution_count": 2175,
   "metadata": {},
   "outputs": [],
   "source": [
    "import sympy as sp\n",
    "from matplotlib import pyplot as plt\n",
    "import numpy as np"
   ]
  },
  {
   "cell_type": "code",
   "execution_count": 2176,
   "metadata": {},
   "outputs": [
    {
     "data": {
      "text/latex": [
       "$\\displaystyle q_{o} \\left(- 0.0166666666666667 q_{c} - 0.0166666666666667 q_{o} + 940\\right)$"
      ],
      "text/plain": [
       "q_o*(-0.0166666666666667*q_c - 0.0166666666666667*q_o + 940)"
      ]
     },
     "execution_count": 2176,
     "metadata": {},
     "output_type": "execute_result"
    }
   ],
   "source": [
    "q_o, q_c,c, a, b, pi,i, f_k=sp.symbols('q_o q_c c a b pi i f_k')\n",
    "\n",
    "\n",
    "# c er konstante marginalkostnader, a og b er parametre i etterspørselsfunksjonen som er gitt ved P = a - bQ\n",
    "# hvor etterspørselen er P = 990-1/60(Q_o+Q_c), faste kostnader for begge bedrifter er 3 millioner\n",
    "c = 50\n",
    "a = 990\n",
    "b = 1/60\n",
    "f_k = 3000000\n",
    "def P_demand(Q,a,b):\n",
    "    return a-b*Q\n",
    "\n",
    "def profit(q_o,q_c,c,a,b):\n",
    "    return (P_demand(q_o+q_c,a,b)-c)*q_o\n",
    "\n",
    "profit(q_o,q_c,c,a,b)"
   ]
  },
  {
   "cell_type": "code",
   "execution_count": 2177,
   "metadata": {},
   "outputs": [
    {
     "data": {
      "text/latex": [
       "$\\displaystyle - 0.0333333333333333 q_{c} - 0.0166666666666667 q_{o} + 940$"
      ],
      "text/plain": [
       "-0.0333333333333333*q_c - 0.0166666666666667*q_o + 940"
      ]
     },
     "execution_count": 2177,
     "metadata": {},
     "output_type": "execute_result"
    }
   ],
   "source": [
    "# Deriverer profittfunksjon til Dr Choice\n",
    "d_profit2_Q=sp.diff(profit(q_c,q_o,c,a,b),q_c)\n",
    "d_profit2_Q"
   ]
  },
  {
   "cell_type": "code",
   "execution_count": 2178,
   "metadata": {},
   "outputs": [
    {
     "data": {
      "text/latex": [
       "$\\displaystyle 28200.0 - 0.5 q_{o}$"
      ],
      "text/plain": [
       "28200.0 - 0.5*q_o"
      ]
     },
     "execution_count": 2178,
     "metadata": {},
     "output_type": "execute_result"
    }
   ],
   "source": [
    "# Setter den deriverte lik 0 og finner reaksjonsfunksjon til Dr choice\n",
    "Q2_sol1=sp.solve(d_profit2_Q,q_c)[0]\n",
    "sp.simplify(Q2_sol1)"
   ]
  },
  {
   "cell_type": "code",
   "execution_count": 2179,
   "metadata": {},
   "outputs": [
    {
     "data": {
      "text/latex": [
       "$\\displaystyle 470.0 - 0.0166666666666667 q_{o}$"
      ],
      "text/plain": [
       "470.0 - 0.0166666666666667*q_o"
      ]
     },
     "execution_count": 2179,
     "metadata": {},
     "output_type": "execute_result"
    }
   ],
   "source": [
    "# På trinn 1 settes reaksjonsfunksjonene til Dr Choice inn i Olivita sin profittfunksjon, og deriverer dette utrykket mhp q_o\n",
    "d_profit1_Q=sp.diff(profit(q_o,Q2_sol1,c,a,b),q_o)\n",
    "d_profit1_Q"
   ]
  },
  {
   "cell_type": "code",
   "execution_count": 2180,
   "metadata": {},
   "outputs": [
    {
     "data": {
      "text/latex": [
       "$\\displaystyle 28200.0$"
      ],
      "text/plain": [
       "28200.0000000000"
      ]
     },
     "execution_count": 2180,
     "metadata": {},
     "output_type": "execute_result"
    }
   ],
   "source": [
    "# For å finne optimalt kvantum til lederbedriften (Olivita) setter vi uttrykket over lik 0\n",
    "Q1_sol=sp.solve(d_profit1_Q,q_o)[0]\n",
    "Q1_sol"
   ]
  },
  {
   "cell_type": "code",
   "execution_count": 2181,
   "metadata": {},
   "outputs": [
    {
     "data": {
      "text/latex": [
       "$\\displaystyle 14100.0$"
      ],
      "text/plain": [
       "14100.0000000000"
      ]
     },
     "execution_count": 2181,
     "metadata": {},
     "output_type": "execute_result"
    }
   ],
   "source": [
    "Q2_sol2=Q2_sol1.subs({q_o:Q1_sol})\n",
    "sp.simplify(Q2_sol2)"
   ]
  },
  {
   "cell_type": "code",
   "execution_count": 2182,
   "metadata": {},
   "outputs": [],
   "source": [
    "def P_demand(q_o,q_c):\n",
    "    return a-b*(q_o+q_c)"
   ]
  },
  {
   "cell_type": "code",
   "execution_count": 2183,
   "metadata": {},
   "outputs": [
    {
     "data": {
      "text/latex": [
       "$\\displaystyle 285.0$"
      ],
      "text/plain": [
       "285.000000000000"
      ]
     },
     "execution_count": 2183,
     "metadata": {},
     "output_type": "execute_result"
    }
   ],
   "source": [
    "# Optimal pris i sluttmarkedet:\n",
    "P_opt=P_demand(q_o,q_c).subs({q_o:Q1_sol,q_c:Q2_sol2})\n",
    "P_opt"
   ]
  },
  {
   "cell_type": "code",
   "execution_count": 2184,
   "metadata": {},
   "outputs": [
    {
     "data": {
      "text/latex": [
       "$\\displaystyle 3627000.0$"
      ],
      "text/plain": [
       "3627000.00000000"
      ]
     },
     "execution_count": 2184,
     "metadata": {},
     "output_type": "execute_result"
    }
   ],
   "source": [
    "# profitt for lederbedrift (Olivita):\n",
    "sp.simplify((P_opt-c)*Q1_sol-f_k)"
   ]
  },
  {
   "cell_type": "code",
   "execution_count": 2185,
   "metadata": {},
   "outputs": [
    {
     "name": "stdout",
     "output_type": "stream",
     "text": [
      "3627000.0\n"
     ]
    }
   ],
   "source": [
    "result = ((990 - 50) ** 2) / (8 * (1 / 60)) - 3000000\n",
    "print(result)\n"
   ]
  },
  {
   "cell_type": "code",
   "execution_count": 2186,
   "metadata": {},
   "outputs": [
    {
     "data": {
      "text/latex": [
       "$\\displaystyle 313500.0$"
      ],
      "text/plain": [
       "313500.000000000"
      ]
     },
     "execution_count": 2186,
     "metadata": {},
     "output_type": "execute_result"
    }
   ],
   "source": [
    "sp.simplify((P_opt-c)*Q2_sol2-f_k)"
   ]
  },
  {
   "cell_type": "code",
   "execution_count": 2187,
   "metadata": {},
   "outputs": [],
   "source": [
    "a,b,c  = sp.symbols('a b c')\n",
    "\n",
    "stackelberg=sp.lambdify(\n",
    "    (a,b,c), \n",
    "    (Q1_sol,Q2_sol2)\n",
    ")"
   ]
  },
  {
   "cell_type": "code",
   "execution_count": 2188,
   "metadata": {},
   "outputs": [
    {
     "data": {
      "text/plain": [
       "(28200.0, 14100.0)"
      ]
     },
     "execution_count": 2188,
     "metadata": {},
     "output_type": "execute_result"
    }
   ],
   "source": [
    "stackelberg(990,1/60,50)\n"
   ]
  },
  {
   "cell_type": "code",
   "execution_count": 2189,
   "metadata": {},
   "outputs": [],
   "source": [
    "# regner cournot likevekt\n",
    "q1, q2,c1,c2, a, b=sp.symbols('q1 q2 c1 c2 a b')\n",
    "\n",
    "a = 990\n",
    "b = 1/60\n",
    "c = 50\n",
    "def P_demand(Q,a,b):\n",
    "    return a-b*Q\n",
    "\n",
    "def profit(q1,q2,c,a,b):\n",
    "    return (P_demand(q1+q2,a,b)-c)*q1"
   ]
  },
  {
   "cell_type": "code",
   "execution_count": 2190,
   "metadata": {},
   "outputs": [
    {
     "data": {
      "text/latex": [
       "$\\displaystyle q_{1} \\left(- 0.0166666666666667 q_{1} - 0.0166666666666667 q_{2} + 940\\right)$"
      ],
      "text/plain": [
       "q1*(-0.0166666666666667*q1 - 0.0166666666666667*q2 + 940)"
      ]
     },
     "execution_count": 2190,
     "metadata": {},
     "output_type": "execute_result"
    }
   ],
   "source": [
    "profit(q1,q2,c,a,b)"
   ]
  },
  {
   "cell_type": "code",
   "execution_count": 2191,
   "metadata": {},
   "outputs": [
    {
     "data": {
      "text/latex": [
       "$\\displaystyle - 0.0333333333333333 q_{1} - 0.0166666666666667 q_{2} + 940$"
      ],
      "text/plain": [
       "-0.0333333333333333*q1 - 0.0166666666666667*q2 + 940"
      ]
     },
     "metadata": {},
     "output_type": "display_data"
    },
    {
     "data": {
      "text/latex": [
       "$\\displaystyle - 0.0166666666666667 q_{1} - 0.0333333333333333 q_{2} + 940$"
      ],
      "text/plain": [
       "-0.0166666666666667*q1 - 0.0333333333333333*q2 + 940"
      ]
     },
     "metadata": {},
     "output_type": "display_data"
    }
   ],
   "source": [
    "d_profit1_Q=sp.diff(profit(q1,q2,c,a,b),q1)\n",
    "d_profit2_Q=sp.diff(profit(q2,q1,c,a,b),q2)\n",
    "\n",
    "display(d_profit1_Q)\n",
    "display(d_profit2_Q)"
   ]
  },
  {
   "cell_type": "code",
   "execution_count": 2192,
   "metadata": {},
   "outputs": [
    {
     "data": {
      "text/latex": [
       "$\\displaystyle 18800.0$"
      ],
      "text/plain": [
       "18800.0000000000"
      ]
     },
     "execution_count": 2192,
     "metadata": {},
     "output_type": "execute_result"
    }
   ],
   "source": [
    "sol=sp.solve([d_profit1_Q,d_profit2_Q],[q1,q2])\n",
    "\n",
    "sp.simplify((sol[q1]))\n"
   ]
  },
  {
   "cell_type": "code",
   "execution_count": 2193,
   "metadata": {},
   "outputs": [
    {
     "data": {
      "text/latex": [
       "$\\displaystyle 18800.0$"
      ],
      "text/plain": [
       "18800.0000000000"
      ]
     },
     "execution_count": 2193,
     "metadata": {},
     "output_type": "execute_result"
    }
   ],
   "source": [
    "sp.simplify((sol[q1]))"
   ]
  },
  {
   "cell_type": "code",
   "execution_count": 2194,
   "metadata": {},
   "outputs": [
    {
     "data": {
      "text/latex": [
       "$\\displaystyle 363.333333333333$"
      ],
      "text/plain": [
       "363.333333333333"
      ]
     },
     "execution_count": 2194,
     "metadata": {},
     "output_type": "execute_result"
    }
   ],
   "source": [
    "def P_demand(q1,q2):\n",
    "    return a-b*(q1+q2)\n",
    "# Optimal pris i sluttmarkedet:\n",
    "P_opt=P_demand(q1,q2).subs({q1:sol[q1],q2:sol[q2]})\n",
    "P_opt"
   ]
  },
  {
   "cell_type": "code",
   "execution_count": 2201,
   "metadata": {},
   "outputs": [
    {
     "data": {
      "text/latex": [
       "$\\displaystyle 2890666.66666667$"
      ],
      "text/plain": [
       "2890666.66666667"
      ]
     },
     "execution_count": 2201,
     "metadata": {},
     "output_type": "execute_result"
    }
   ],
   "source": [
    "# profitt for lederbedrift (Olivita):\n",
    "sp.simplify((P_opt-c)*sol[q1]-f_k)"
   ]
  },
  {
   "cell_type": "code",
   "execution_count": 2200,
   "metadata": {},
   "outputs": [
    {
     "data": {
      "text/latex": [
       "$\\displaystyle 18800.0$"
      ],
      "text/plain": [
       "18800.0000000000"
      ]
     },
     "execution_count": 2200,
     "metadata": {},
     "output_type": "execute_result"
    }
   ],
   "source": [
    "sol[q1]"
   ]
  },
  {
   "cell_type": "code",
   "execution_count": 2202,
   "metadata": {},
   "outputs": [
    {
     "data": {
      "text/plain": [
       "2890604.0"
      ]
     },
     "execution_count": 2202,
     "metadata": {},
     "output_type": "execute_result"
    }
   ],
   "source": [
    "(363.33 -50)*18800 - 3000000"
   ]
  },
  {
   "cell_type": "code",
   "execution_count": 2197,
   "metadata": {},
   "outputs": [
    {
     "data": {
      "text/plain": [
       "363.33399999999995"
      ]
     },
     "execution_count": 2197,
     "metadata": {},
     "output_type": "execute_result"
    }
   ],
   "source": [
    "990 - 626.666"
   ]
  }
 ],
 "metadata": {
  "kernelspec": {
   "display_name": "Python 3",
   "language": "python",
   "name": "python3"
  },
  "language_info": {
   "codemirror_mode": {
    "name": "ipython",
    "version": 3
   },
   "file_extension": ".py",
   "mimetype": "text/x-python",
   "name": "python",
   "nbconvert_exporter": "python",
   "pygments_lexer": "ipython3",
   "version": "3.11.1"
  }
 },
 "nbformat": 4,
 "nbformat_minor": 2
}
