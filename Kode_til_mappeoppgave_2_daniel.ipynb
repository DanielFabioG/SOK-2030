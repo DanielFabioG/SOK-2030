{
 "cells": [
  {
   "cell_type": "code",
   "execution_count": 783,
   "metadata": {},
   "outputs": [],
   "source": [
    "import sympy as sp\n",
    "from matplotlib import pyplot as plt\n",
    "import numpy as np"
   ]
  },
  {
   "cell_type": "code",
   "execution_count": 784,
   "metadata": {},
   "outputs": [
    {
     "data": {
      "text/latex": [
       "$\\displaystyle q_{o} \\left(- 0.0166666666666667 q_{c} - 0.0166666666666667 q_{o} + 940\\right)$"
      ],
      "text/plain": [
       "q_o*(-0.0166666666666667*q_c - 0.0166666666666667*q_o + 940)"
      ]
     },
     "execution_count": 784,
     "metadata": {},
     "output_type": "execute_result"
    }
   ],
   "source": [
    "q_o, q_c,c, a, b, pi,i, f_k=sp.symbols('q_o q_c c a b pi i f_k')\n",
    "\n",
    "\n",
    "# c er konstante marginalkostnader, a og b er parametre i etterspørselsfunksjonen som er gitt ved P = a - bQ\n",
    "# hvor etterspørselen er P = 990-1/60(Q_o+Q_c), faste kostnader for begge bedrifter er 3 millioner\n",
    "c = 50\n",
    "a = 990\n",
    "b = 1/60\n",
    "f_k = 3000000\n",
    "def P_demand(Q,a,b):\n",
    "    return a-b*Q\n",
    "\n",
    "def profit(q_o,q_c,c,a,b):\n",
    "    return (P_demand(q_o+q_c,a,b)-c)*q_o\n",
    "\n",
    "profit(q_o,q_c,c,a,b)"
   ]
  },
  {
   "cell_type": "code",
   "execution_count": 785,
   "metadata": {},
   "outputs": [
    {
     "data": {
      "text/latex": [
       "$\\displaystyle - 0.0333333333333333 q_{c} - 0.0166666666666667 q_{o} + 940$"
      ],
      "text/plain": [
       "-0.0333333333333333*q_c - 0.0166666666666667*q_o + 940"
      ]
     },
     "execution_count": 785,
     "metadata": {},
     "output_type": "execute_result"
    }
   ],
   "source": [
    "# Deriverer profittfunksjon til Dr Choice\n",
    "d_profit2_Q=sp.diff(profit(q_c,q_o,c,a,b),q_c)\n",
    "d_profit2_Q"
   ]
  },
  {
   "cell_type": "code",
   "execution_count": 786,
   "metadata": {},
   "outputs": [
    {
     "data": {
      "text/latex": [
       "$\\displaystyle 28200.0 - 0.5 q_{o}$"
      ],
      "text/plain": [
       "28200.0 - 0.5*q_o"
      ]
     },
     "execution_count": 786,
     "metadata": {},
     "output_type": "execute_result"
    }
   ],
   "source": [
    "# Setter den deriverte lik 0 og finner reaksjonsfunksjon til Dr choice\n",
    "Q2_sol1=sp.solve(d_profit2_Q,q_c)[0]\n",
    "sp.simplify(Q2_sol1)"
   ]
  },
  {
   "cell_type": "code",
   "execution_count": 787,
   "metadata": {},
   "outputs": [
    {
     "data": {
      "text/latex": [
       "$\\displaystyle 470.0 - 0.0166666666666667 q_{o}$"
      ],
      "text/plain": [
       "470.0 - 0.0166666666666667*q_o"
      ]
     },
     "execution_count": 787,
     "metadata": {},
     "output_type": "execute_result"
    }
   ],
   "source": [
    "# På trinn 1 settes reaksjonsfunksjonene til Dr Choice inn i Olivita sin profittfunksjon, og deriverer dette utrykket mhp q_o\n",
    "d_profit1_Q=sp.diff(profit(q_o,Q2_sol1,c,a,b),q_o)\n",
    "d_profit1_Q"
   ]
  },
  {
   "cell_type": "code",
   "execution_count": 788,
   "metadata": {},
   "outputs": [
    {
     "data": {
      "text/latex": [
       "$\\displaystyle 28200.0$"
      ],
      "text/plain": [
       "28200.0000000000"
      ]
     },
     "execution_count": 788,
     "metadata": {},
     "output_type": "execute_result"
    }
   ],
   "source": [
    "# For å finne optimalt kvantum til lederbedriften (Olivita) setter vi uttrykket over lik 0\n",
    "Q1_sol=sp.solve(d_profit1_Q,q_o)[0]\n",
    "Q1_sol"
   ]
  },
  {
   "cell_type": "code",
   "execution_count": 789,
   "metadata": {},
   "outputs": [
    {
     "data": {
      "text/latex": [
       "$\\displaystyle 14100.0$"
      ],
      "text/plain": [
       "14100.0000000000"
      ]
     },
     "execution_count": 789,
     "metadata": {},
     "output_type": "execute_result"
    }
   ],
   "source": [
    "Q2_sol2=Q2_sol1.subs({q_o:Q1_sol})\n",
    "sp.simplify(Q2_sol2)"
   ]
  },
  {
   "cell_type": "code",
   "execution_count": 790,
   "metadata": {},
   "outputs": [],
   "source": [
    "def P_demand(q_o,q_c):\n",
    "    return a-b*(q_o+q_c)"
   ]
  },
  {
   "cell_type": "code",
   "execution_count": 791,
   "metadata": {},
   "outputs": [
    {
     "data": {
      "text/latex": [
       "$\\displaystyle 285.0$"
      ],
      "text/plain": [
       "285.000000000000"
      ]
     },
     "execution_count": 791,
     "metadata": {},
     "output_type": "execute_result"
    }
   ],
   "source": [
    "# Optimal pris i sluttmarkedet:\n",
    "P_opt=P_demand(q_o,q_c).subs({q_o:Q1_sol,q_c:Q2_sol2})\n",
    "P_opt"
   ]
  },
  {
   "cell_type": "code",
   "execution_count": 792,
   "metadata": {},
   "outputs": [
    {
     "data": {
      "text/latex": [
       "$\\displaystyle 3627000.0$"
      ],
      "text/plain": [
       "3627000.00000000"
      ]
     },
     "execution_count": 792,
     "metadata": {},
     "output_type": "execute_result"
    }
   ],
   "source": [
    "# profitt for lederbedrift (Olivita):\n",
    "sp.simplify((P_opt-c)*Q1_sol-f_k)"
   ]
  },
  {
   "cell_type": "code",
   "execution_count": 793,
   "metadata": {},
   "outputs": [
    {
     "name": "stdout",
     "output_type": "stream",
     "text": [
      "3627000.0\n"
     ]
    }
   ],
   "source": [
    "result = ((990 - 50) ** 2) / (8 * (1 / 60)) - 3000000\n",
    "print(result)\n"
   ]
  },
  {
   "cell_type": "code",
   "execution_count": 794,
   "metadata": {},
   "outputs": [
    {
     "data": {
      "text/latex": [
       "$\\displaystyle 313500.0$"
      ],
      "text/plain": [
       "313500.000000000"
      ]
     },
     "execution_count": 794,
     "metadata": {},
     "output_type": "execute_result"
    }
   ],
   "source": [
    "sp.simplify((P_opt-c)*Q2_sol2-f_k)"
   ]
  },
  {
   "cell_type": "code",
   "execution_count": 795,
   "metadata": {},
   "outputs": [],
   "source": [
    "a,b,c  = sp.symbols('a b c')\n",
    "\n",
    "stackelberg=sp.lambdify(\n",
    "    (a,b,c), \n",
    "    (Q1_sol,Q2_sol2)\n",
    ")"
   ]
  },
  {
   "cell_type": "code",
   "execution_count": 796,
   "metadata": {},
   "outputs": [
    {
     "data": {
      "text/plain": [
       "(28200.0, 14100.0)"
      ]
     },
     "execution_count": 796,
     "metadata": {},
     "output_type": "execute_result"
    }
   ],
   "source": [
    "stackelberg(990,1/60,50)\n"
   ]
  },
  {
   "cell_type": "code",
   "execution_count": 797,
   "metadata": {},
   "outputs": [],
   "source": [
    "# regner cournot likevekt\n",
    "q1, q2,c1,c2, a, b=sp.symbols('q1 q2 c1 c2 a b')\n",
    "\n",
    "a = 990\n",
    "b = 1/60\n",
    "c = 50\n",
    "def P_demand(Q,a,b):\n",
    "    return a-b*Q\n",
    "\n",
    "def profit(q1,q2,c,a,b):\n",
    "    return (P_demand(q1+q2,a,b)-c)*q1"
   ]
  },
  {
   "cell_type": "code",
   "execution_count": 798,
   "metadata": {},
   "outputs": [
    {
     "data": {
      "text/latex": [
       "$\\displaystyle - 0.0333333333333333 q_{1} - 0.0166666666666667 q_{2} + 940$"
      ],
      "text/plain": [
       "-0.0333333333333333*q1 - 0.0166666666666667*q2 + 940"
      ]
     },
     "metadata": {},
     "output_type": "display_data"
    },
    {
     "data": {
      "text/latex": [
       "$\\displaystyle - 0.0166666666666667 q_{1} - 0.0333333333333333 q_{2} + 940$"
      ],
      "text/plain": [
       "-0.0166666666666667*q1 - 0.0333333333333333*q2 + 940"
      ]
     },
     "metadata": {},
     "output_type": "display_data"
    }
   ],
   "source": [
    "d_profit1_Q=sp.diff(profit(q1,q2,c,a,b),q1)\n",
    "d_profit2_Q=sp.diff(profit(q2,q1,c,a,b),q2)\n",
    "\n",
    "display(d_profit1_Q)\n",
    "display(d_profit2_Q)"
   ]
  },
  {
   "cell_type": "code",
   "execution_count": 799,
   "metadata": {},
   "outputs": [
    {
     "data": {
      "text/latex": [
       "$\\displaystyle 18800.0$"
      ],
      "text/plain": [
       "18800.0000000000"
      ]
     },
     "execution_count": 799,
     "metadata": {},
     "output_type": "execute_result"
    }
   ],
   "source": [
    "sol=sp.solve([d_profit1_Q,d_profit2_Q],[q1,q2])\n",
    "\n",
    "sp.simplify((sol[q1]))\n"
   ]
  },
  {
   "cell_type": "code",
   "execution_count": 800,
   "metadata": {},
   "outputs": [
    {
     "data": {
      "text/latex": [
       "$\\displaystyle 18800.0$"
      ],
      "text/plain": [
       "18800.0000000000"
      ]
     },
     "execution_count": 800,
     "metadata": {},
     "output_type": "execute_result"
    }
   ],
   "source": [
    "sp.simplify((sol[q1]))"
   ]
  },
  {
   "cell_type": "code",
   "execution_count": 801,
   "metadata": {},
   "outputs": [
    {
     "data": {
      "text/latex": [
       "$\\displaystyle 363.333333333333$"
      ],
      "text/plain": [
       "363.333333333333"
      ]
     },
     "execution_count": 801,
     "metadata": {},
     "output_type": "execute_result"
    }
   ],
   "source": [
    "def P_demand(q1,q2):\n",
    "    return a-b*(q1+q2)\n",
    "# Optimal pris i sluttmarkedet:\n",
    "P_opt=P_demand(q1,q2).subs({q1:sol[q1],q2:sol[q2]})\n",
    "P_opt"
   ]
  },
  {
   "cell_type": "code",
   "execution_count": 802,
   "metadata": {},
   "outputs": [
    {
     "data": {
      "text/latex": [
       "$\\displaystyle 2890666.66666667$"
      ],
      "text/plain": [
       "2890666.66666667"
      ]
     },
     "execution_count": 802,
     "metadata": {},
     "output_type": "execute_result"
    }
   ],
   "source": [
    "# profitt for lederbedrift (Olivita):\n",
    "sp.simplify((P_opt-c)*sol[q1]-f_k)"
   ]
  },
  {
   "cell_type": "code",
   "execution_count": 803,
   "metadata": {},
   "outputs": [],
   "source": [
    "# Starter på oppgave 2, regner på nytt cournot for mikroøl\n",
    "# q_g er graffi, q_b er bryggeri 13 og q_m er mack mikrobryggeri\n",
    "\n",
    "# regner cournot likevekt\n",
    "q_g, q_b, q_m,c_g,c_b,c_m, a, b, f_k,c=sp.symbols('q_g q_b q_m c_g c_b c_m a b f_k c')\n",
    "\n",
    "a = 175\n",
    "b = 4\n",
    "c_g = 10\n",
    "c_b = 10\n",
    "c_m = 7\n",
    "f_k = 300000\n",
    "def P_demand(Q,a,b):\n",
    "    return a-b*Q\n",
    "\n",
    "def profit(q_g,q_b,q_m,c,a,b):\n",
    "    return (P_demand(q_g+q_b+q_m,a,b)-c)*q_g"
   ]
  },
  {
   "cell_type": "code",
   "execution_count": 804,
   "metadata": {},
   "outputs": [
    {
     "data": {
      "text/latex": [
       "$\\displaystyle q_{g} \\left(- c - 4 q_{b} - 4 q_{g} - 4 q_{m} + 175\\right)$"
      ],
      "text/plain": [
       "q_g*(-c - 4*q_b - 4*q_g - 4*q_m + 175)"
      ]
     },
     "execution_count": 804,
     "metadata": {},
     "output_type": "execute_result"
    }
   ],
   "source": [
    "profit(q_g,q_b,q_m,c,a,b)"
   ]
  },
  {
   "cell_type": "code",
   "execution_count": 805,
   "metadata": {},
   "outputs": [
    {
     "data": {
      "text/latex": [
       "$\\displaystyle - 4 q_{b} - 8 q_{g} - 4 q_{m} + 165$"
      ],
      "text/plain": [
       "-4*q_b - 8*q_g - 4*q_m + 165"
      ]
     },
     "metadata": {},
     "output_type": "display_data"
    },
    {
     "data": {
      "text/latex": [
       "$\\displaystyle - 8 q_{b} - 4 q_{g} - 4 q_{m} + 165$"
      ],
      "text/plain": [
       "-8*q_b - 4*q_g - 4*q_m + 165"
      ]
     },
     "metadata": {},
     "output_type": "display_data"
    },
    {
     "data": {
      "text/latex": [
       "$\\displaystyle - 4 q_{b} - 4 q_{g} - 8 q_{m} + 168$"
      ],
      "text/plain": [
       "-4*q_b - 4*q_g - 8*q_m + 168"
      ]
     },
     "metadata": {},
     "output_type": "display_data"
    }
   ],
   "source": [
    "d_profit1_Q=sp.diff(profit(q_g,q_b,q_m,c_g,a,b),q_g)\n",
    "d_profit2_Q=sp.diff(profit(q_b,q_g, q_m,c_b,a,b),q_b)\n",
    "d_profit3_Q=sp.diff(profit(q_m,q_g,q_b,c_m,a,b),q_m)\n",
    "\n",
    "\n",
    "display(d_profit1_Q)\n",
    "display(d_profit2_Q)\n",
    "display(d_profit3_Q)"
   ]
  },
  {
   "cell_type": "code",
   "execution_count": 806,
   "metadata": {},
   "outputs": [
    {
     "data": {
      "text/plain": [
       "10.125"
      ]
     },
     "metadata": {},
     "output_type": "display_data"
    },
    {
     "data": {
      "text/plain": [
       "10.125"
      ]
     },
     "metadata": {},
     "output_type": "display_data"
    },
    {
     "data": {
      "text/plain": [
       "10.875"
      ]
     },
     "metadata": {},
     "output_type": "display_data"
    }
   ],
   "source": [
    "# Tallene blir i tusener\n",
    "\n",
    "sol=sp.solve([d_profit1_Q,d_profit2_Q,d_profit3_Q],[q_g,q_b,q_m])\n",
    "\n",
    "# Kvantum til Graff brygghus\n",
    "display(float(sol[q_g]))\n",
    "# Kvantum til Bryggeri 13\n",
    "display(float(sol[q_b]))\n",
    "# Kvantum til Mack mikrobryggeri\n",
    "display(float(sol[q_m]))"
   ]
  },
  {
   "cell_type": "code",
   "execution_count": 807,
   "metadata": {},
   "outputs": [
    {
     "data": {
      "text/latex": [
       "$\\displaystyle \\frac{101}{2}$"
      ],
      "text/plain": [
       "101/2"
      ]
     },
     "execution_count": 807,
     "metadata": {},
     "output_type": "execute_result"
    }
   ],
   "source": [
    "def P_demand(q_g,q_b,q_m):\n",
    "    return a-b*(q_g+q_b+q_m)\n",
    "\n",
    "# Optimal pris i sluttmarkedet:\n",
    "P_opt=P_demand(q_g,q_b,q_m).subs({q_g:sol[q_g],q_b:sol[q_b],q_m:sol[q_m]})\n",
    "\n",
    "# simplify.doit\n",
    "P_opt"
   ]
  },
  {
   "cell_type": "code",
   "execution_count": 808,
   "metadata": {},
   "outputs": [
    {
     "data": {
      "text/latex": [
       "$\\displaystyle \\frac{220125}{2}$"
      ],
      "text/plain": [
       "220125/2"
      ]
     },
     "metadata": {},
     "output_type": "display_data"
    },
    {
     "data": {
      "text/latex": [
       "$\\displaystyle \\frac{220125}{2}$"
      ],
      "text/plain": [
       "220125/2"
      ]
     },
     "metadata": {},
     "output_type": "display_data"
    },
    {
     "data": {
      "text/latex": [
       "$\\displaystyle \\frac{346125}{2}$"
      ],
      "text/plain": [
       "346125/2"
      ]
     },
     "metadata": {},
     "output_type": "display_data"
    }
   ],
   "source": [
    "# Husk å gange med 1000 for å finne profitt siden tall er oppgitt i tusen\n",
    "\n",
    "# profitt for (Graff brygghus):\n",
    "display(sp.simplify((P_opt-c_g)*(sol[q_g]*1000)-f_k))\n",
    "\n",
    "# profitt for Bryggeri 13:\n",
    "display(sp.simplify((P_opt-c_b)*(sol[q_b]*1000)-f_k))\n",
    "\n",
    "# profitt for Mack mikrobryggeri:\n",
    "display(sp.simplify((P_opt-c_m)*(sol[q_m]*1000)-f_k))"
   ]
  },
  {
   "cell_type": "code",
   "execution_count": 810,
   "metadata": {},
   "outputs": [
    {
     "data": {
      "text/plain": [
       "173062.5"
      ]
     },
     "execution_count": 810,
     "metadata": {},
     "output_type": "execute_result"
    }
   ],
   "source": [
    "# Fusjonerer to symmetriske cournot bedrifter\n",
    "\n",
    "346125/2"
   ]
  }
 ],
 "metadata": {
  "kernelspec": {
   "display_name": "Python 3",
   "language": "python",
   "name": "python3"
  },
  "language_info": {
   "codemirror_mode": {
    "name": "ipython",
    "version": 3
   },
   "file_extension": ".py",
   "mimetype": "text/x-python",
   "name": "python",
   "nbconvert_exporter": "python",
   "pygments_lexer": "ipython3",
   "version": "3.11.2"
  }
 },
 "nbformat": 4,
 "nbformat_minor": 2
}
