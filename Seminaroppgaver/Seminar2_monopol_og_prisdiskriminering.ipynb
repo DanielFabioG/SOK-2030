{
 "cells": [
  {
   "cell_type": "code",
   "execution_count": 5,
   "metadata": {},
   "outputs": [],
   "source": [
    "import sympy as sp\n",
    "import numpy as np\n",
    "from matplotlib import pyplot as plt"
   ]
  },
  {
   "cell_type": "markdown",
   "metadata": {},
   "source": [
    "Som styremedlem i hotellet på Sommarøy mener du at bedriften bør bruke prismekanismen til å maksimere sitt overskudd. Erfaringer viser at etterspørselen etter hotellrom er høyere i sommersesongen og noe lavere på vinteren. Hotellet er den eneste tilbyderen av hotellrom i dette området, og står ovenfor følgende etterspørsel: \n",
    "\n",
    "Etterspørsel sommer: QS = 4200 - PS \n",
    "\n",
    "Etterspørsel vinter: QV = 1500 - PV/2 \n",
    "\n",
    "Som følge av investeringer i nytt hotellbygg har bedriften faste kostander på NOK 2 millioner per år, og konstante variable kostnader på NOK 600 per rom (til vask av rom og sengetøy). Ledelsen ved hotellet skal gjøre en vurdering av sin prisstrategi, hvor de vurderer enten en uniform prising, med lik pris gjennom hele året, eller en diskriminering av pris for de ulike sesongene. \n",
    "\n",
    "a)\n",
    "Vis hvordan en monopolist, som tilbyr sitt produkt til ulike kundesegmenter eller i ulike geografiske områder (med ulik betalingsvillighet), kan bruke prismekanismen til å øke bedriftens lønnsomhet.\n"
   ]
  },
  {
   "cell_type": "code",
   "execution_count": 38,
   "metadata": {},
   "outputs": [
    {
     "data": {
      "text/latex": [
       "$\\displaystyle 4800$"
      ],
      "text/plain": [
       "4800"
      ]
     },
     "execution_count": 38,
     "metadata": {},
     "output_type": "execute_result"
    }
   ],
   "source": [
    "P,Q=sp.symbols('P Q', real=True, positive=True)\n",
    "\n",
    "# Førstegrads prisdiskriminering (Perfekt prisdiskriminering)\n",
    "def demand_summer(P):\n",
    "    return 4200-P\n",
    "\n",
    "def demand_winter(P):\n",
    "    return 1500-P/2\n",
    "\n",
    "# Samlet etterspørsel\n",
    "def demand(P):\n",
    "    return demand_summer(P) + demand_winter(P)\n",
    "\n",
    "V = 600\n",
    "# Proffitfunksjon\n",
    "def proffit(P,V):\n",
    "    return (P-V)*demand(P)\n",
    "\n",
    "løsning = sp.solve(proffit(P,V),P)\n",
    "\n",
    "# Putting løsning in demand for Q\n",
    "# substitute P with løsning[0]\n",
    "demand_løsning = demand(P).subs(P,løsning[0])\n",
    "\n",
    "demand_løsning"
   ]
  },
  {
   "cell_type": "code",
   "execution_count": 39,
   "metadata": {},
   "outputs": [],
   "source": [
    "# Andregrads prisdiskriminering, kjenner ikke til betalingsvilligheten til de ulike kundegruppene\n",
    "\n",
    "# Sommer\n",
    "F = sp.symbols('F', real=True, positive=True)\n",
    "def profitt_func(P,V,F):\n",
    "    return (P-V)*demand_winter(P) + (P-V)*demand_summer(P) - F"
   ]
  },
  {
   "cell_type": "code",
   "execution_count": 35,
   "metadata": {},
   "outputs": [],
   "source": [
    "# finding the derivative of profitt_func for P\n",
    "derivert = sp.diff(profitt_func(P,V,F),P)"
   ]
  },
  {
   "cell_type": "code",
   "execution_count": 47,
   "metadata": {},
   "outputs": [
    {
     "data": {
      "text/latex": [
       "$\\displaystyle 8400 - 6 P$"
      ],
      "text/plain": [
       "8400 - 6*P"
      ]
     },
     "execution_count": 47,
     "metadata": {},
     "output_type": "execute_result"
    }
   ],
   "source": [
    "derivert_løsning"
   ]
  },
  {
   "cell_type": "code",
   "execution_count": 41,
   "metadata": {},
   "outputs": [],
   "source": [
    "# Vinter\n",
    "def profitt_func_vinter(P,V,F):\n",
    "    return (P-V)*demand_winter(P) + (P-V)*demand_summer(P) - F"
   ]
  },
  {
   "cell_type": "code",
   "execution_count": 45,
   "metadata": {},
   "outputs": [
    {
     "data": {
      "text/latex": [
       "$\\displaystyle 8400 - 6 P$"
      ],
      "text/plain": [
       "8400 - 6*P"
      ]
     },
     "execution_count": 45,
     "metadata": {},
     "output_type": "execute_result"
    }
   ],
   "source": [
    "# ?? løsning XD\n",
    "P = 2400\n",
    "derivert"
   ]
  },
  {
   "cell_type": "code",
   "execution_count": null,
   "metadata": {},
   "outputs": [],
   "source": [
    "# Tredje grads prisdiskriminering, kjenner til de ulike kundegruppenes og kan sette prisen deretter"
   ]
  },
  {
   "cell_type": "markdown",
   "metadata": {},
   "source": [
    "b) Forklar hvordan de ulike markedstilpasninger til monopolbedriften vil påvirke det\n",
    "samfunnsøkonomiske overskuddet. "
   ]
  },
  {
   "cell_type": "code",
   "execution_count": null,
   "metadata": {},
   "outputs": [],
   "source": []
  },
  {
   "cell_type": "markdown",
   "metadata": {},
   "source": [
    "Hvilken strategi vil du anbefale ledelsen? Hva blir overskuddet til bedriften ved de to ulike prisstrategiene?"
   ]
  },
  {
   "cell_type": "code",
   "execution_count": null,
   "metadata": {},
   "outputs": [],
   "source": [
    "# lmao"
   ]
  }
 ],
 "metadata": {
  "kernelspec": {
   "display_name": "Python 3",
   "language": "python",
   "name": "python3"
  },
  "language_info": {
   "codemirror_mode": {
    "name": "ipython",
    "version": 3
   },
   "file_extension": ".py",
   "mimetype": "text/x-python",
   "name": "python",
   "nbconvert_exporter": "python",
   "pygments_lexer": "ipython3",
   "version": "3.11.2"
  }
 },
 "nbformat": 4,
 "nbformat_minor": 2
}
