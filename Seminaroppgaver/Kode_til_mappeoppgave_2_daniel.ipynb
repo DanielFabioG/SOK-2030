{
 "cells": [
  {
   "cell_type": "code",
   "execution_count": 716,
   "metadata": {},
   "outputs": [],
   "source": [
    "import sympy as sp\n",
    "from matplotlib import pyplot as plt\n",
    "import numpy as np"
   ]
  },
  {
   "cell_type": "code",
   "execution_count": 717,
   "metadata": {},
   "outputs": [
    {
     "data": {
      "text/latex": [
       "$\\displaystyle q_{o} \\left(- 0.0166666666666667 q_{c} - 0.0166666666666667 q_{o} + 940\\right)$"
      ],
      "text/plain": [
       "q_o*(-0.0166666666666667*q_c - 0.0166666666666667*q_o + 940)"
      ]
     },
     "execution_count": 717,
     "metadata": {},
     "output_type": "execute_result"
    }
   ],
   "source": [
    "q_o, q_c,c, a, b, pi,i, f_k=sp.symbols('q_o q_c c a b pi i f_k')\n",
    "\n",
    "\n",
    "# c er konstante marginalkostnader, a og b er parametre i etterspørselsfunksjonen som er gitt ved P = a - bQ\n",
    "# hvor etterspørselen er P = 990-1/60(Q_o+Q_c), faste kostnader for begge bedrifter er 3 millioner\n",
    "c = 50\n",
    "a = 990\n",
    "b = 1/60\n",
    "f_k = 3000000\n",
    "def P_demand(Q,a,b):\n",
    "    return a-b*Q\n",
    "\n",
    "def profit(q_o,q_c,c,a,b):\n",
    "    return (P_demand(q_o+q_c,a,b)-c)*q_o\n",
    "\n",
    "profit(q_o,q_c,c,a,b)"
   ]
  },
  {
   "cell_type": "code",
   "execution_count": 718,
   "metadata": {},
   "outputs": [
    {
     "data": {
      "text/latex": [
       "$\\displaystyle - 0.0333333333333333 q_{c} - 0.0166666666666667 q_{o} + 940$"
      ],
      "text/plain": [
       "-0.0333333333333333*q_c - 0.0166666666666667*q_o + 940"
      ]
     },
     "execution_count": 718,
     "metadata": {},
     "output_type": "execute_result"
    }
   ],
   "source": [
    "# Deriverer profittfunksjon til Dr Choice\n",
    "d_profit2_Q=sp.diff(profit(q_c,q_o,c,a,b),q_c)\n",
    "d_profit2_Q"
   ]
  },
  {
   "cell_type": "code",
   "execution_count": 719,
   "metadata": {},
   "outputs": [
    {
     "data": {
      "text/latex": [
       "$\\displaystyle 28200.0 - 0.5 q_{o}$"
      ],
      "text/plain": [
       "28200.0 - 0.5*q_o"
      ]
     },
     "execution_count": 719,
     "metadata": {},
     "output_type": "execute_result"
    }
   ],
   "source": [
    "# Setter den deriverte lik 0 og finner reaksjonsfunksjon til Dr choice\n",
    "Q2_sol1=sp.solve(d_profit2_Q,q_c)[0]\n",
    "sp.simplify(Q2_sol1)"
   ]
  },
  {
   "cell_type": "code",
   "execution_count": 720,
   "metadata": {},
   "outputs": [
    {
     "data": {
      "text/latex": [
       "$\\displaystyle 470.0 - 0.0166666666666667 q_{o}$"
      ],
      "text/plain": [
       "470.0 - 0.0166666666666667*q_o"
      ]
     },
     "execution_count": 720,
     "metadata": {},
     "output_type": "execute_result"
    }
   ],
   "source": [
    "# På trinn 1 settes reaksjonsfunksjonene til Dr Choice inn i Olivita sin profittfunksjon, og deriverer dette utrykket mhp q_o\n",
    "d_profit1_Q=sp.diff(profit(q_o,Q2_sol1,c,a,b),q_o)\n",
    "d_profit1_Q"
   ]
  },
  {
   "cell_type": "code",
   "execution_count": 721,
   "metadata": {},
   "outputs": [
    {
     "data": {
      "text/latex": [
       "$\\displaystyle 28200.0$"
      ],
      "text/plain": [
       "28200.0000000000"
      ]
     },
     "execution_count": 721,
     "metadata": {},
     "output_type": "execute_result"
    }
   ],
   "source": [
    "# For å finne optimalt kvantum til lederbedriften (Olivita) setter vi uttrykket over lik 0\n",
    "Q1_sol=sp.solve(d_profit1_Q,q_o)[0]\n",
    "Q1_sol"
   ]
  },
  {
   "cell_type": "code",
   "execution_count": 722,
   "metadata": {},
   "outputs": [
    {
     "data": {
      "text/latex": [
       "$\\displaystyle 14100.0$"
      ],
      "text/plain": [
       "14100.0000000000"
      ]
     },
     "execution_count": 722,
     "metadata": {},
     "output_type": "execute_result"
    }
   ],
   "source": [
    "Q2_sol2=Q2_sol1.subs({q_o:Q1_sol})\n",
    "sp.simplify(Q2_sol2)"
   ]
  },
  {
   "cell_type": "code",
   "execution_count": 723,
   "metadata": {},
   "outputs": [
    {
     "data": {
      "text/latex": [
       "$\\displaystyle 285.0$"
      ],
      "text/plain": [
       "285.000000000000"
      ]
     },
     "execution_count": 723,
     "metadata": {},
     "output_type": "execute_result"
    }
   ],
   "source": [
    "def P_demand(q_o,q_c):\n",
    "    return a-b*(q_o+q_c)\n",
    "# Optimal pris i sluttmarkedet:\n",
    "P_opt=P_demand(q_o,q_c).subs({q_o:Q1_sol,q_c:Q2_sol2})\n",
    "P_opt"
   ]
  },
  {
   "cell_type": "code",
   "execution_count": 724,
   "metadata": {},
   "outputs": [
    {
     "data": {
      "text/latex": [
       "$\\displaystyle 3627000.0$"
      ],
      "text/plain": [
       "3627000.00000000"
      ]
     },
     "execution_count": 724,
     "metadata": {},
     "output_type": "execute_result"
    }
   ],
   "source": [
    "# profitt for lederbedrift (Olivita):\n",
    "sp.simplify((P_opt-c)*Q1_sol-f_k)"
   ]
  },
  {
   "cell_type": "code",
   "execution_count": 725,
   "metadata": {},
   "outputs": [
    {
     "data": {
      "text/latex": [
       "$\\displaystyle 313500.0$"
      ],
      "text/plain": [
       "313500.000000000"
      ]
     },
     "execution_count": 725,
     "metadata": {},
     "output_type": "execute_result"
    }
   ],
   "source": [
    "# profitt for følgerbedrift (Dr Choice):\n",
    "sp.simplify((P_opt-c)*Q2_sol2-f_k)"
   ]
  },
  {
   "cell_type": "code",
   "execution_count": 726,
   "metadata": {},
   "outputs": [
    {
     "data": {
      "image/png": "[encoded data removed]",
      "text/plain": [
       "<Figure size 640x480 with 1 Axes>"
      ]
     },
     "metadata": {},
     "output_type": "display_data"
    }
   ],
   "source": [
    "# Lager første pai som viser hvor stor andel av markedet hver bedrift har ved bruk av stackelbergmodellen\n",
    "labels = 'Olivita', 'Dr Choice'\n",
    "sizes = [Q1_sol,Q2_sol2]\n",
    "colors = ['#A42820', '#5F5647']\n",
    "explode = (0.1, 0)  # explode 1st slice\n",
    "plt.pie(sizes, explode=explode, labels=labels, colors=colors, autopct='%1.1f%%', shadow = True, startangle=140)\n",
    "plt.savefig('dokumentobjekter/figurer/stackelberg_olivita_dr_choice.png')\n"
   ]
  },
  {
   "cell_type": "code",
   "execution_count": 727,
   "metadata": {},
   "outputs": [],
   "source": [
    "# regner cournot likevekt\n",
    "q1, q2,c1,c2, a, b=sp.symbols('q1 q2 c1 c2 a b')\n",
    "\n",
    "a = 990\n",
    "b = 1/60\n",
    "c = 50\n",
    "def P_demand(Q,a,b):\n",
    "    return a-b*Q\n",
    "\n",
    "def profit(q1,q2,c,a,b):\n",
    "    return (P_demand(q1+q2,a,b)-c)*q1"
   ]
  },
  {
   "cell_type": "code",
   "execution_count": 728,
   "metadata": {},
   "outputs": [
    {
     "data": {
      "text/latex": [
       "$\\displaystyle - 0.0333333333333333 q_{1} - 0.0166666666666667 q_{2} + 940$"
      ],
      "text/plain": [
       "-0.0333333333333333*q1 - 0.0166666666666667*q2 + 940"
      ]
     },
     "metadata": {},
     "output_type": "display_data"
    },
    {
     "data": {
      "text/latex": [
       "$\\displaystyle - 0.0166666666666667 q_{1} - 0.0333333333333333 q_{2} + 940$"
      ],
      "text/plain": [
       "-0.0166666666666667*q1 - 0.0333333333333333*q2 + 940"
      ]
     },
     "metadata": {},
     "output_type": "display_data"
    }
   ],
   "source": [
    "d_profit1_Q=sp.diff(profit(q1,q2,c,a,b),q1)\n",
    "d_profit2_Q=sp.diff(profit(q2,q1,c,a,b),q2)\n",
    "\n",
    "display(d_profit1_Q)\n",
    "display(d_profit2_Q)"
   ]
  },
  {
   "cell_type": "code",
   "execution_count": 729,
   "metadata": {},
   "outputs": [
    {
     "data": {
      "text/latex": [
       "$\\displaystyle 18800.0$"
      ],
      "text/plain": [
       "18800.0000000000"
      ]
     },
     "execution_count": 729,
     "metadata": {},
     "output_type": "execute_result"
    }
   ],
   "source": [
    "sol=sp.solve([d_profit1_Q,d_profit2_Q],[q1,q2])\n",
    "\n",
    "Q1_sol =sp.simplify((sol[q1]))\n",
    "Q1_sol"
   ]
  },
  {
   "cell_type": "code",
   "execution_count": 730,
   "metadata": {},
   "outputs": [
    {
     "data": {
      "text/latex": [
       "$\\displaystyle 18800.0$"
      ],
      "text/plain": [
       "18800.0000000000"
      ]
     },
     "execution_count": 730,
     "metadata": {},
     "output_type": "execute_result"
    }
   ],
   "source": [
    "Q2_sol =sp.simplify((sol[q1]))\n",
    "Q2_sol"
   ]
  },
  {
   "cell_type": "code",
   "execution_count": 731,
   "metadata": {},
   "outputs": [
    {
     "data": {
      "text/latex": [
       "$\\displaystyle 363.333333333333$"
      ],
      "text/plain": [
       "363.333333333333"
      ]
     },
     "execution_count": 731,
     "metadata": {},
     "output_type": "execute_result"
    }
   ],
   "source": [
    "def P_demand(q1,q2):\n",
    "    return a-b*(q1+q2)\n",
    "# Optimal pris i sluttmarkedet:\n",
    "P_opt=P_demand(q1,q2).subs({q1:sol[q1],q2:sol[q2]})\n",
    "P_opt"
   ]
  },
  {
   "cell_type": "code",
   "execution_count": 732,
   "metadata": {},
   "outputs": [
    {
     "data": {
      "text/latex": [
       "$\\displaystyle 2890666.66666667$"
      ],
      "text/plain": [
       "2890666.66666667"
      ]
     },
     "execution_count": 732,
     "metadata": {},
     "output_type": "execute_result"
    }
   ],
   "source": [
    "# profitt for lederbedrift (Olivita):\n",
    "sp.simplify((P_opt-c)*sol[q1]-f_k)"
   ]
  },
  {
   "cell_type": "code",
   "execution_count": 733,
   "metadata": {},
   "outputs": [
    {
     "data": {
      "image/png": "[encoded data removed]",
      "text/plain": [
       "<Figure size 640x480 with 1 Axes>"
      ]
     },
     "metadata": {},
     "output_type": "display_data"
    }
   ],
   "source": [
    "# Lager første pai som viser hvor stor andel av markedet hver bedrift har ved bruk av stackelbergmodellen\n",
    "sizes = [Q1_sol,Q2_sol]\n",
    "explode = (0.1, 0)  # explode 1st slice\n",
    "plt.pie(sizes, explode=explode, labels=labels, colors=colors, autopct='%1.1f%%', shadow=True, startangle=140)\n",
    "plt.savefig('dokumentobjekter/figurer/cournot_olivita_dr_choice.png')\n"
   ]
  },
  {
   "cell_type": "code",
   "execution_count": 734,
   "metadata": {},
   "outputs": [],
   "source": [
    "# Starter på oppgave 2, regner på nytt cournot for mikroøl\n",
    "# q_g er graffi, q_b er bryggeri 13 og q_m er mack mikrobryggeri\n",
    "\n",
    "# regner cournot likevekt\n",
    "q_g, q_b, q_m,c_g,c_b,c_m, a, b, f_k,c=sp.symbols('q_g q_b q_m c_g c_b c_m a b f_k c')\n",
    "\n",
    "a = 175\n",
    "b = 4\n",
    "c_g = 10\n",
    "c_b = 10\n",
    "c_m = 7\n",
    "f_k = 300000\n",
    "def P_demand(Q,a,b):\n",
    "    return a-b*Q\n",
    "\n",
    "def profit(q_g,q_b,q_m,c,a,b):\n",
    "    return (P_demand(q_g+q_b+q_m,a,b)-c)*q_g"
   ]
  },
  {
   "cell_type": "code",
   "execution_count": 735,
   "metadata": {},
   "outputs": [
    {
     "data": {
      "text/latex": [
       "$\\displaystyle q_{g} \\left(- c - 4 q_{b} - 4 q_{g} - 4 q_{m} + 175\\right)$"
      ],
      "text/plain": [
       "q_g*(-c - 4*q_b - 4*q_g - 4*q_m + 175)"
      ]
     },
     "execution_count": 735,
     "metadata": {},
     "output_type": "execute_result"
    }
   ],
   "source": [
    "profit(q_g,q_b,q_m,c,a,b)"
   ]
  },
  {
   "cell_type": "code",
   "execution_count": 736,
   "metadata": {},
   "outputs": [
    {
     "data": {
      "text/latex": [
       "$\\displaystyle - 4 q_{b} - 8 q_{g} - 4 q_{m} + 165$"
      ],
      "text/plain": [
       "-4*q_b - 8*q_g - 4*q_m + 165"
      ]
     },
     "metadata": {},
     "output_type": "display_data"
    },
    {
     "data": {
      "text/latex": [
       "$\\displaystyle - 8 q_{b} - 4 q_{g} - 4 q_{m} + 165$"
      ],
      "text/plain": [
       "-8*q_b - 4*q_g - 4*q_m + 165"
      ]
     },
     "metadata": {},
     "output_type": "display_data"
    },
    {
     "data": {
      "text/latex": [
       "$\\displaystyle - 4 q_{b} - 4 q_{g} - 8 q_{m} + 168$"
      ],
      "text/plain": [
       "-4*q_b - 4*q_g - 8*q_m + 168"
      ]
     },
     "metadata": {},
     "output_type": "display_data"
    }
   ],
   "source": [
    "d_profit1_Q=sp.diff(profit(q_g,q_b,q_m,c_g,a,b),q_g)\n",
    "d_profit2_Q=sp.diff(profit(q_b,q_g, q_m,c_b,a,b),q_b)\n",
    "d_profit3_Q=sp.diff(profit(q_m,q_g,q_b,c_m,a,b),q_m)\n",
    "\n",
    "\n",
    "display(d_profit1_Q)\n",
    "display(d_profit2_Q)\n",
    "display(d_profit3_Q)"
   ]
  },
  {
   "cell_type": "code",
   "execution_count": 737,
   "metadata": {},
   "outputs": [
    {
     "data": {
      "text/latex": [
       "$\\displaystyle \\frac{81}{8}$"
      ],
      "text/plain": [
       "81/8"
      ]
     },
     "metadata": {},
     "output_type": "display_data"
    },
    {
     "data": {
      "text/latex": [
       "$\\displaystyle \\frac{81}{8}$"
      ],
      "text/plain": [
       "81/8"
      ]
     },
     "metadata": {},
     "output_type": "display_data"
    },
    {
     "data": {
      "text/latex": [
       "$\\displaystyle \\frac{87}{8}$"
      ],
      "text/plain": [
       "87/8"
      ]
     },
     "metadata": {},
     "output_type": "display_data"
    }
   ],
   "source": [
    "# Tallene blir i tusener\n",
    "\n",
    "sol=sp.solve([d_profit1_Q,d_profit2_Q,d_profit3_Q],[q_g,q_b,q_m])\n",
    "\n",
    "# Kvantum til Graff brygghus\n",
    "display((sol[q_g]))\n",
    "# Kvantum til Bryggeri 13\n",
    "display((sol[q_b]))\n",
    "# Kvantum til Mack mikrobryggeri\n",
    "display((sol[q_m]))"
   ]
  },
  {
   "cell_type": "code",
   "execution_count": 738,
   "metadata": {},
   "outputs": [
    {
     "data": {
      "text/latex": [
       "$\\displaystyle \\frac{101}{2}$"
      ],
      "text/plain": [
       "101/2"
      ]
     },
     "execution_count": 738,
     "metadata": {},
     "output_type": "execute_result"
    }
   ],
   "source": [
    "def P_demand(q_g,q_b,q_m):\n",
    "    return a-b*(q_g+q_b+q_m)\n",
    "\n",
    "# Optimal pris i sluttmarkedet:\n",
    "P_opt=P_demand(q_g,q_b,q_m).subs({q_g:sol[q_g],q_b:sol[q_b],q_m:sol[q_m]})\n",
    "\n",
    "# simplify.doit\n",
    "P_opt"
   ]
  },
  {
   "cell_type": "code",
   "execution_count": 739,
   "metadata": {},
   "outputs": [
    {
     "data": {
      "text/latex": [
       "$\\displaystyle \\frac{220125}{2}$"
      ],
      "text/plain": [
       "220125/2"
      ]
     },
     "metadata": {},
     "output_type": "display_data"
    },
    {
     "data": {
      "text/latex": [
       "$\\displaystyle \\frac{220125}{2}$"
      ],
      "text/plain": [
       "220125/2"
      ]
     },
     "metadata": {},
     "output_type": "display_data"
    },
    {
     "data": {
      "text/latex": [
       "$\\displaystyle \\frac{346125}{2}$"
      ],
      "text/plain": [
       "346125/2"
      ]
     },
     "metadata": {},
     "output_type": "display_data"
    },
    {
     "data": {
      "text/latex": [
       "$\\displaystyle 283125$"
      ],
      "text/plain": [
       "283125"
      ]
     },
     "execution_count": 739,
     "metadata": {},
     "output_type": "execute_result"
    }
   ],
   "source": [
    "# Husk å gange med 1000 for å finne profitt siden tall er oppgitt i tusen\n",
    "\n",
    "# profitt for (Graff brygghus):\n",
    "Graff= sp.simplify((P_opt-c_g)*(sol[q_g]*1000)-f_k)\n",
    "display(Graff)\n",
    "# profitt for Bryggeri 13:\n",
    "Bryggeri_13= sp.simplify((P_opt-c_b)*(sol[q_b]*1000)-f_k)\n",
    "\n",
    "# profitt for Mack mikrobryggeri:\n",
    "Mack = sp.simplify((P_opt-c_m)*(sol[q_m]*1000)-f_k)\n",
    "\n",
    "display(Bryggeri_13)\n",
    "display(Mack)\n",
    "\n",
    "#Profitt for bryggeri 13 og mack før fusjon\n",
    "Mack+Bryggeri_13"
   ]
  },
  {
   "cell_type": "code",
   "execution_count": 740,
   "metadata": {},
   "outputs": [
    {
     "data": {
      "image/png": "[encoded data removed]",
      "text/plain": [
       "<Figure size 640x480 with 1 Axes>"
      ]
     },
     "metadata": {},
     "output_type": "display_data"
    }
   ],
   "source": [
    "# Oppgave 2 figur for mikrobryggeriene\n",
    "labels = 'Graff Brygghus', 'Bryggeri 13', 'Mack Mikrobryggeri'\n",
    "sizes = [sol[q_g],sol[q_b],sol[q_m]]\n",
    "colors = ['#A42820', '#5F5647', '#9B110E']\n",
    "explode = (0.1, 0, 0)  # explode 1st slice\n",
    "plt.pie(sizes, explode=explode, labels=labels, colors=colors, autopct='%1.1f%%', shadow = True, startangle=140)\n",
    "plt.show()"
   ]
  },
  {
   "cell_type": "code",
   "execution_count": 741,
   "metadata": {},
   "outputs": [],
   "source": [
    "# Fusjonerer to asymmetriske cournot bedrifter Mack mikrobryggeri og Bryggeri 13\n",
    "\n",
    "# Oppgave 2a\n",
    "# q_g er kvantum til Graff brygghus\n",
    "# q_bm blir kvantum til den fusjonerte bedriften\n",
    "# ny fk for den fusjonerte bedriften blir 500 000\n",
    "\n",
    "# regner cournot likevekt\n",
    "q_g, q_bm,c_g,c_bm, a, b, f_k,c, f_k_bm=sp.symbols('q_g q_bm c_g c_bm a b f_k c f_k_bm')\n",
    "\n",
    "a = 175\n",
    "b = 4\n",
    "c_g = 10\n",
    "c_bm = 7\n",
    "f_k = 300000\n",
    "f_k_bm = 500000\n",
    "def P_demand(Q,a,b):\n",
    "    return a-b*Q\n",
    "\n",
    "def profit(q_g,q_bm,c,a,b):\n",
    "    return (P_demand(q_g+q_bm,a,b)-c)*q_g"
   ]
  },
  {
   "cell_type": "code",
   "execution_count": 742,
   "metadata": {},
   "outputs": [
    {
     "data": {
      "text/latex": [
       "$\\displaystyle - 4 q_{bm} - 8 q_{g} + 165$"
      ],
      "text/plain": [
       "-4*q_bm - 8*q_g + 165"
      ]
     },
     "metadata": {},
     "output_type": "display_data"
    },
    {
     "data": {
      "text/latex": [
       "$\\displaystyle - 8 q_{bm} - 4 q_{g} + 168$"
      ],
      "text/plain": [
       "-8*q_bm - 4*q_g + 168"
      ]
     },
     "metadata": {},
     "output_type": "display_data"
    }
   ],
   "source": [
    "d_profit1_Q=sp.diff(profit(q_g,q_bm,c_g,a,b),q_g)\n",
    "d_profit2_Q=sp.diff(profit(q_bm,q_g,c_bm,a,b),q_bm)\n",
    "\n",
    "\n",
    "display(d_profit1_Q)\n",
    "display(d_profit2_Q)"
   ]
  },
  {
   "cell_type": "code",
   "execution_count": 743,
   "metadata": {},
   "outputs": [
    {
     "data": {
      "text/latex": [
       "$\\displaystyle \\frac{27}{2}$"
      ],
      "text/plain": [
       "27/2"
      ]
     },
     "metadata": {},
     "output_type": "display_data"
    },
    {
     "data": {
      "text/latex": [
       "$\\displaystyle \\frac{57}{4}$"
      ],
      "text/plain": [
       "57/4"
      ]
     },
     "metadata": {},
     "output_type": "display_data"
    }
   ],
   "source": [
    "# Kvantum er i tusener\n",
    "\n",
    "sol=sp.solve([d_profit1_Q,d_profit2_Q],[q_g,q_bm])\n",
    "\n",
    "# Kvantum til Graff brygghus\n",
    "display(sol[q_g])\n",
    "# Kvantum til fusjonert bedrift\n",
    "display(sol[q_bm])"
   ]
  },
  {
   "cell_type": "code",
   "execution_count": 744,
   "metadata": {},
   "outputs": [
    {
     "data": {
      "text/latex": [
       "$\\displaystyle 64$"
      ],
      "text/plain": [
       "64"
      ]
     },
     "execution_count": 744,
     "metadata": {},
     "output_type": "execute_result"
    }
   ],
   "source": [
    "def P_demand(q_g,q_bm):\n",
    "    return a-b*(q_g+q_bm)\n",
    "\n",
    "# Optimal pris i sluttmarkedet:\n",
    "P_opt=P_demand(q_g,q_bm).subs({q_g:sol[q_g],q_bm:sol[q_bm]})\n",
    "\n",
    "# Optimal sluttpris \n",
    "P_opt"
   ]
  },
  {
   "cell_type": "code",
   "execution_count": 745,
   "metadata": {},
   "outputs": [
    {
     "data": {
      "text/latex": [
       "$\\displaystyle 429000$"
      ],
      "text/plain": [
       "429000"
      ]
     },
     "metadata": {},
     "output_type": "display_data"
    },
    {
     "data": {
      "text/latex": [
       "$\\displaystyle 312250$"
      ],
      "text/plain": [
       "312250"
      ]
     },
     "metadata": {},
     "output_type": "display_data"
    }
   ],
   "source": [
    "# profitt for (Graff brygghus):\n",
    "display(sp.simplify((P_opt-c_g)*(sol[q_g]*1000)-f_k))\n",
    "\n",
    "# profitt for fusjonert bedrift\n",
    "display(sp.simplify((P_opt-c_bm)*(sol[q_bm]*1000)-f_k_bm))"
   ]
  },
  {
   "cell_type": "code",
   "execution_count": 746,
   "metadata": {},
   "outputs": [
    {
     "data": {
      "image/png": "[encoded data removed]",
      "text/plain": [
       "<Figure size 640x480 with 1 Axes>"
      ]
     },
     "metadata": {},
     "output_type": "display_data"
    }
   ],
   "source": [
    "# Figur for markedet etter fusjon\n",
    "\n",
    "labels = 'Graff Brygghus', 'Fusjonert bedrift'\n",
    "sizes = [sol[q_g],sol[q_bm]]\n",
    "colors = ['#A42820', '#5F5647']\n",
    "explode = (0.1, 0)  # explode 1st slice\n",
    "plt.pie(sizes, explode=explode, labels=labels, colors=colors, autopct='%1.1f%%', shadow = True, startangle=140)\n",
    "plt.savefig('dokumentobjekter/figurer/fusjonert_bedrift.png')"
   ]
  },
  {
   "cell_type": "code",
   "execution_count": 747,
   "metadata": {},
   "outputs": [],
   "source": [
    "q1, q2,c, a, b, pi,i=sp.symbols('q1 q2 c a b pi i')\n",
    "\n",
    "a = 175\n",
    "b = 4\n",
    "c = 10\n",
    "\n",
    "\n",
    "def P_demand(Q,a,b):\n",
    "    return a-b*Q\n",
    "\n",
    "def profit(q1,q2,c,a,b):\n",
    "    return (P_demand(q1+q2,a,b)-c)*q1"
   ]
  },
  {
   "cell_type": "code",
   "execution_count": 748,
   "metadata": {},
   "outputs": [
    {
     "data": {
      "text/latex": [
       "$\\displaystyle - 4 q_{1} - 8 q_{2} + 165$"
      ],
      "text/plain": [
       "-4*q1 - 8*q2 + 165"
      ]
     },
     "execution_count": 748,
     "metadata": {},
     "output_type": "execute_result"
    }
   ],
   "source": [
    "d_profit2_Q=sp.diff(profit(q2,q1,c,a,b),q2)\n",
    "d_profit2_Q"
   ]
  },
  {
   "cell_type": "code",
   "execution_count": 749,
   "metadata": {},
   "outputs": [
    {
     "data": {
      "text/latex": [
       "$\\displaystyle \\frac{165}{8} - \\frac{q_{1}}{2}$"
      ],
      "text/plain": [
       "165/8 - q1/2"
      ]
     },
     "execution_count": 749,
     "metadata": {},
     "output_type": "execute_result"
    }
   ],
   "source": [
    "# Graff brygghus\n",
    "Q2_sol1=sp.solve(d_profit2_Q,q2)[0]\n",
    "Q2_sol1"
   ]
  },
  {
   "cell_type": "code",
   "execution_count": 750,
   "metadata": {},
   "outputs": [
    {
     "data": {
      "text/latex": [
       "$\\displaystyle \\frac{171}{2} - 4 q_{1}$"
      ],
      "text/plain": [
       "171/2 - 4*q1"
      ]
     },
     "execution_count": 750,
     "metadata": {},
     "output_type": "execute_result"
    }
   ],
   "source": [
    "\n",
    "d_profit1_Q=sp.diff(profit(q1,Q2_sol1,7,a,b),q1)\n",
    "d_profit1_Q"
   ]
  },
  {
   "cell_type": "code",
   "execution_count": 751,
   "metadata": {},
   "outputs": [
    {
     "data": {
      "text/latex": [
       "$\\displaystyle 21$"
      ],
      "text/plain": [
       "21"
      ]
     },
     "execution_count": 751,
     "metadata": {},
     "output_type": "execute_result"
    }
   ],
   "source": [
    "# Setter den deriverte lik 0 og finner reaksjonsfunksjon til fusjonert bedrift\n",
    "Q1_sol=sp.solve(d_profit1_Q,q1)[0]\n",
    "round(Q1_sol)"
   ]
  },
  {
   "cell_type": "code",
   "execution_count": 752,
   "metadata": {},
   "outputs": [
    {
     "data": {
      "text/latex": [
       "$\\displaystyle 10$"
      ],
      "text/plain": [
       "10"
      ]
     },
     "execution_count": 752,
     "metadata": {},
     "output_type": "execute_result"
    }
   ],
   "source": [
    "Q2_sol2=Q2_sol1.subs({q1:Q1_sol})\n",
    "round(Q2_sol2)"
   ]
  },
  {
   "cell_type": "code",
   "execution_count": 753,
   "metadata": {},
   "outputs": [
    {
     "data": {
      "text/latex": [
       "$\\displaystyle 50$"
      ],
      "text/plain": [
       "50"
      ]
     },
     "execution_count": 753,
     "metadata": {},
     "output_type": "execute_result"
    }
   ],
   "source": [
    "def P_demand(q1,q2):\n",
    "    return a-b*(q1+q2)\n",
    "\n",
    "# Optimal kvantum i sluttmarkedet:\n",
    "P_opt=P_demand(q1,q2).subs({q1:Q1_sol,q2:Q2_sol2})\n",
    "round(sp.simplify(P_opt))"
   ]
  },
  {
   "cell_type": "code",
   "execution_count": 754,
   "metadata": {},
   "outputs": [
    {
     "data": {
      "text/latex": [
       "$\\displaystyle 413781.25$"
      ],
      "text/plain": [
       "413781.25"
      ]
     },
     "execution_count": 754,
     "metadata": {},
     "output_type": "execute_result"
    }
   ],
   "source": [
    "c_m = 7\n",
    "# profitt for lederbedrift:\n",
    "def profitt(q1):\n",
    "    return (P_opt-7)*(Q1_sol)*1000-500000\n",
    "\n",
    "mack_profitt = sp.simplify(profitt(q1))\n",
    "\n",
    "profitt_mack_stackel=round(mack_profitt,2)\n",
    "profitt_mack_stackel"
   ]
  },
  {
   "cell_type": "code",
   "execution_count": 755,
   "metadata": {},
   "outputs": [],
   "source": [
    "# profitt for følgerbedrift:\n",
    "def profitt(q2):\n",
    "    return (P_opt-10)*(Q2_sol2)*1000-300000\n",
    "\n",
    "svar_2 = sp.simplify(profitt(q2))\n",
    "graff_profitt = round(svar_2,2)"
   ]
  },
  {
   "cell_type": "code",
   "execution_count": 756,
   "metadata": {},
   "outputs": [
    {
     "data": {
      "text/latex": [
       "$\\displaystyle 95015.62$"
      ],
      "text/plain": [
       "95015.62"
      ]
     },
     "execution_count": 756,
     "metadata": {},
     "output_type": "execute_result"
    }
   ],
   "source": [
    "graff_profitt"
   ]
  },
  {
   "cell_type": "code",
   "execution_count": 757,
   "metadata": {},
   "outputs": [
    {
     "data": {
      "image/png": "[encoded data removed]",
      "text/plain": [
       "<Figure size 640x480 with 1 Axes>"
      ]
     },
     "metadata": {},
     "output_type": "display_data"
    }
   ],
   "source": [
    "# Lager første pai som viser hvor stor andel av markedet hver bedrift har ved bruk av stackelbergmodellen\n",
    "labels = ['Mack Mikrobrygg 13', 'Graff Brygghus']\n",
    "sizes = [Q1_sol,Q2_sol2]\n",
    "colors = ['#A42820', '#5F5647']\n",
    "explode = (0.1, 0)  # explode 1st slice\n",
    "plt.pie(sizes, explode=explode, labels=labels, colors=colors, autopct='%1.1f%%', shadow = True, startangle=140)\n",
    "plt.savefig('dokumentobjekter/figurer/stackelberg_mack_graff.png')"
   ]
  },
  {
   "cell_type": "code",
   "execution_count": 758,
   "metadata": {},
   "outputs": [],
   "source": [
    "# Markedet etter fusjon med to symmetriske bedrifter under cournot konkurranse\n",
    "\n",
    "# Oppgave 2b\n",
    "# q_g er kvantum til Graff brygghus\n",
    "# q_bm blir kvantum til Mack mikrobrygg 13\n",
    "# ny fk for den fusjonerte bedriften blir 500 000 samt for Graff brygghus\n",
    "# c_g = c_bm = 7 siden de er symmetriske og graff har nytt produksjonsutstyr\n",
    "\n",
    "# regner cournot likevekt\n",
    "q_g, q_bm, a, b, f_k,c, f_k_bm=sp.symbols('q_g c_bm a b f_k c f_k_bm')\n",
    "\n",
    "a = 175\n",
    "# Ny etterspørsel\n",
    "b = 4\n",
    "c = 7\n",
    "f_k = 500000\n",
    "\n",
    "def P_demand(Q,a,b):\n",
    "    return a-b*Q\n",
    "\n",
    "\n",
    "def profit(q_g,q_bm,c,a,b):\n",
    "    return (P_demand(q_g+q_bm,a,b)-c)*q_g"
   ]
  },
  {
   "cell_type": "code",
   "execution_count": 759,
   "metadata": {},
   "outputs": [
    {
     "data": {
      "text/latex": [
       "$\\displaystyle q_{g} \\left(- 4 c_{bm} - 4 q_{g} + 168\\right)$"
      ],
      "text/plain": [
       "q_g*(-4*c_bm - 4*q_g + 168)"
      ]
     },
     "execution_count": 759,
     "metadata": {},
     "output_type": "execute_result"
    }
   ],
   "source": [
    "profit(q_g,q_bm,c,a,b)"
   ]
  },
  {
   "cell_type": "code",
   "execution_count": 760,
   "metadata": {},
   "outputs": [
    {
     "data": {
      "text/latex": [
       "$\\displaystyle - 4 c_{bm} - 8 q_{g} + 168$"
      ],
      "text/plain": [
       "-4*c_bm - 8*q_g + 168"
      ]
     },
     "metadata": {},
     "output_type": "display_data"
    },
    {
     "data": {
      "text/latex": [
       "$\\displaystyle - 8 c_{bm} - 4 q_{g} + 168$"
      ],
      "text/plain": [
       "-8*c_bm - 4*q_g + 168"
      ]
     },
     "metadata": {},
     "output_type": "display_data"
    }
   ],
   "source": [
    "d_profit1_Q=sp.diff(profit(q_g,q_bm,c,a,b),q_g)\n",
    "d_profit2_Q=sp.diff(profit(q_bm,q_g,c,a,b),q_bm)\n",
    "\n",
    "\n",
    "display(d_profit1_Q)\n",
    "display(d_profit2_Q)"
   ]
  },
  {
   "cell_type": "code",
   "execution_count": 761,
   "metadata": {},
   "outputs": [
    {
     "data": {
      "text/latex": [
       "$\\displaystyle 14$"
      ],
      "text/plain": [
       "14"
      ]
     },
     "metadata": {},
     "output_type": "display_data"
    },
    {
     "data": {
      "text/latex": [
       "$\\displaystyle 14$"
      ],
      "text/plain": [
       "14"
      ]
     },
     "metadata": {},
     "output_type": "display_data"
    }
   ],
   "source": [
    "# Kvantum er i tusener\n",
    "\n",
    "sol=sp.solve([d_profit1_Q,d_profit2_Q],[q_g,q_bm])\n",
    "\n",
    "# Kvantum til Graff brygghus\n",
    "display(sol[q_g])\n",
    "# Kvantum til fusjonert bedrift\n",
    "display(sol[q_bm])"
   ]
  },
  {
   "cell_type": "code",
   "execution_count": 762,
   "metadata": {},
   "outputs": [
    {
     "data": {
      "text/latex": [
       "$\\displaystyle 63$"
      ],
      "text/plain": [
       "63"
      ]
     },
     "execution_count": 762,
     "metadata": {},
     "output_type": "execute_result"
    }
   ],
   "source": [
    "def P_demand(q_g,q_bm):\n",
    "    return a-b*(q_g+q_bm)\n",
    "\n",
    "# Optimal pris i sluttmarkedet:\n",
    "P_opt=P_demand(q_g,q_bm).subs({q_g:sol[q_g],q_bm:sol[q_bm]})\n",
    "\n",
    "P_opt"
   ]
  },
  {
   "cell_type": "code",
   "execution_count": 763,
   "metadata": {},
   "outputs": [
    {
     "data": {
      "text/plain": [
       "29.0"
      ]
     },
     "execution_count": 763,
     "metadata": {},
     "output_type": "execute_result"
    }
   ],
   "source": [
    "58/2"
   ]
  },
  {
   "cell_type": "code",
   "execution_count": 764,
   "metadata": {},
   "outputs": [
    {
     "data": {
      "text/latex": [
       "$\\displaystyle 284000$"
      ],
      "text/plain": [
       "284000"
      ]
     },
     "metadata": {},
     "output_type": "display_data"
    },
    {
     "data": {
      "text/latex": [
       "$\\displaystyle 284000$"
      ],
      "text/plain": [
       "284000"
      ]
     },
     "metadata": {},
     "output_type": "display_data"
    }
   ],
   "source": [
    "# profitt for (Graff brygghus):\n",
    "graff_proffittt = sp.simplify((P_opt-c)*(sol[q_g])*1000-f_k)\n",
    "display(graff_proffittt)\n",
    "# profitt for fusjonert bedrift\n",
    "mack_fusjonert_proff = sp.simplify(P_opt-c)*(sol[q_bm]*1000)-f_k\n",
    "display(mack_fusjonert_proff)"
   ]
  },
  {
   "cell_type": "code",
   "execution_count": 765,
   "metadata": {},
   "outputs": [
    {
     "data": {
      "image/png": "[encoded data removed]",
      "text/plain": [
       "<Figure size 640x480 with 1 Axes>"
      ]
     },
     "metadata": {},
     "output_type": "display_data"
    }
   ],
   "source": [
    "# Figur for markedet før fusjon\n",
    "labels = 'Graff Brygghus', 'Mack Mikrobrygg 13'\n",
    "sizes = [sol[q_g],sol[q_bm]]\n",
    "colors = ['#A42820', '#5F5647']\n",
    "explode = (0.1, 0)  # explode 1st slice\n",
    "plt.pie(sizes, explode=explode, labels=labels, colors=colors, autopct='%1.1f%%', shadow = True, startangle=140)\n",
    "plt.savefig('', bbox_inches='tight', dpi=600)"
   ]
  },
  {
   "cell_type": "code",
   "execution_count": 766,
   "metadata": {},
   "outputs": [],
   "source": [
    "# Oppstrømsbedriftene er bryggeriene\n",
    "# Nedstrømsbedriften er Restaurant Gruppen Holding (RGH)\n",
    "# Tilpasning ved monopol for oppstrøm og nedstrømsbedriftene\n",
    "\n",
    "\n",
    "A, B,Qd,Qr,QI,P,c, r=sp.symbols('A B Qd Qr QI P c r')\n",
    "\n",
    "\n",
    "A = 175\n",
    "B = 2\n",
    "c = 7\n",
    "\n",
    "def demand(Q):\n",
    "    return (A-B*Q)\n",
    "\n",
    "def marginalrevenue(Q):\n",
    "    return (A-2*B*Q)"
   ]
  },
  {
   "cell_type": "code",
   "execution_count": 767,
   "metadata": {},
   "outputs": [
    {
     "data": {
      "text/latex": [
       "$\\displaystyle 175 - 4 Q = r$"
      ],
      "text/plain": [
       "Eq(175 - 4*Q, r)"
      ]
     },
     "execution_count": 767,
     "metadata": {},
     "output_type": "execute_result"
    }
   ],
   "source": [
    "Q=sp.symbols('Q', real=True, positive=True)\n",
    "equ=sp.Eq(marginalrevenue(Q),r)\n",
    "equ"
   ]
  },
  {
   "cell_type": "code",
   "execution_count": 768,
   "metadata": {},
   "outputs": [
    {
     "data": {
      "text/latex": [
       "$\\displaystyle \\frac{175}{4} - \\frac{r}{4}$"
      ],
      "text/plain": [
       "175/4 - r/4"
      ]
     },
     "execution_count": 768,
     "metadata": {},
     "output_type": "execute_result"
    }
   ],
   "source": [
    "Qd_equ=sp.solve(equ,Q)[0]\n",
    "Qd_equ"
   ]
  },
  {
   "cell_type": "code",
   "execution_count": 769,
   "metadata": {},
   "outputs": [
    {
     "data": {
      "text/latex": [
       "$\\displaystyle \\frac{r}{2} + \\frac{175}{2}$"
      ],
      "text/plain": [
       "r/2 + 175/2"
      ]
     },
     "execution_count": 769,
     "metadata": {},
     "output_type": "execute_result"
    }
   ],
   "source": [
    "P_eq=demand(Qd_equ)\n",
    "P_eq"
   ]
  },
  {
   "cell_type": "code",
   "execution_count": 770,
   "metadata": {},
   "outputs": [],
   "source": [
    "\n",
    "def demand(Qr):\n",
    "    return (A-2*B*Qr)\n",
    "\n",
    "def marginalrevenue(Qr):\n",
    "    return (A-4*B*Qr)"
   ]
  },
  {
   "cell_type": "code",
   "execution_count": 771,
   "metadata": {},
   "outputs": [
    {
     "data": {
      "text/latex": [
       "$\\displaystyle 175 - 8 Qr = 7$"
      ],
      "text/plain": [
       "Eq(175 - 8*Qr, 7)"
      ]
     },
     "execution_count": 771,
     "metadata": {},
     "output_type": "execute_result"
    }
   ],
   "source": [
    "Qr=sp.symbols('Qr', real=True, positive=True)\n",
    "equ=sp.Eq(marginalrevenue(Qr),c)\n",
    "equ"
   ]
  },
  {
   "cell_type": "code",
   "execution_count": 772,
   "metadata": {},
   "outputs": [
    {
     "data": {
      "text/latex": [
       "$\\displaystyle 21$"
      ],
      "text/plain": [
       "21"
      ]
     },
     "execution_count": 772,
     "metadata": {},
     "output_type": "execute_result"
    }
   ],
   "source": [
    "Qr_equ=sp.solve(equ,Qr)[0]\n",
    "Qr_equ"
   ]
  },
  {
   "cell_type": "code",
   "execution_count": 773,
   "metadata": {},
   "outputs": [
    {
     "data": {
      "text/latex": [
       "$\\displaystyle 91$"
      ],
      "text/plain": [
       "91"
      ]
     },
     "execution_count": 773,
     "metadata": {},
     "output_type": "execute_result"
    }
   ],
   "source": [
    "# optimal pris fra oppstrømsbedriften\n",
    "r_eq=demand(Qr_equ)\n",
    "r_eq"
   ]
  },
  {
   "cell_type": "code",
   "execution_count": 774,
   "metadata": {},
   "outputs": [
    {
     "data": {
      "text/latex": [
       "$\\displaystyle 133$"
      ],
      "text/plain": [
       "133"
      ]
     },
     "execution_count": 774,
     "metadata": {},
     "output_type": "execute_result"
    }
   ],
   "source": [
    "# Finner pris ved å sette totalt kvantum og pris fra oppstrømsbedriften inn i etterspørselen til nedstrømsbedriften\n",
    "P_eq.subs({Qd:Qd_equ,r:r_eq})"
   ]
  },
  {
   "cell_type": "code",
   "execution_count": 775,
   "metadata": {},
   "outputs": [
    {
     "data": {
      "text/latex": [
       "$\\displaystyle 21$"
      ],
      "text/plain": [
       "21"
      ]
     },
     "execution_count": 775,
     "metadata": {},
     "output_type": "execute_result"
    }
   ],
   "source": [
    "# Optimal kvantum i sluttmarkedet:\n",
    "Qd_opt=Qd_equ.subs({r:r_eq})\n",
    "sp.simplify(Qd_opt)"
   ]
  },
  {
   "cell_type": "code",
   "execution_count": 776,
   "metadata": {},
   "outputs": [
    {
     "data": {
      "text/latex": [
       "$\\displaystyle 764000$"
      ],
      "text/plain": [
       "764000"
      ]
     },
     "execution_count": 776,
     "metadata": {},
     "output_type": "execute_result"
    }
   ],
   "source": [
    "# profitt for oppstrømsbedriften ved monopol og fusjon\n",
    "def profitt(Qr):\n",
    "    return (r_eq-c)*(Qr_equ)*1000-1000000\n",
    "\n",
    "proff_etter_fusj=sp.simplify(profitt(Qr_equ))\n",
    "proff_etter_fusj"
   ]
  },
  {
   "cell_type": "code",
   "execution_count": 780,
   "metadata": {},
   "outputs": [
    {
     "data": {
      "text/plain": [
       "568000"
      ]
     },
     "execution_count": 780,
     "metadata": {},
     "output_type": "execute_result"
    }
   ],
   "source": [
    "284000*2"
   ]
  },
  {
   "cell_type": "code",
   "execution_count": 777,
   "metadata": {},
   "outputs": [
    {
     "data": {
      "text/latex": [
       "$\\displaystyle 282000$"
      ],
      "text/plain": [
       "282000"
      ]
     },
     "execution_count": 777,
     "metadata": {},
     "output_type": "execute_result"
    }
   ],
   "source": [
    "    # profitt for nedstrømsbedriften\n",
    "    def profitt(Qd):\n",
    "        return (P_eq.subs({Qd:Qd_equ,r:r_eq})-r_eq)*Qd_equ.subs({Qd:Qd_equ,r:r_eq})*1000-600000\n",
    "\n",
    "    sp.simplify(profitt(Qr_equ))"
   ]
  },
  {
   "cell_type": "code",
   "execution_count": 778,
   "metadata": {},
   "outputs": [
    {
     "data": {
      "image/png": "[encoded data removed]",
      "text/plain": [
       "<Figure size 640x480 with 1 Axes>"
      ]
     },
     "metadata": {},
     "output_type": "display_data"
    }
   ],
   "source": [
    "# Lager figur som viser hvor stor profitt som er før og etter fusjon\n",
    "labels = 'Begge bryggerier samlet', 'Begge bryggerier etter fusjon'\n",
    "sizes = [graff_proffittt+mack_fusjonert_proff, proff_etter_fusj]\n",
    "colors = ['#A42820', '#5F5647']\n",
    "explode = (0.1, 0)  # explode 1st slice\n",
    "plt.pie(sizes, explode=explode, labels=labels, colors=colors, autopct='%1.1f%%', shadow = True, startangle=140)\n",
    "plt.title('Profitt før og etter fusjon')\n",
    "plt.savefig('dokumentobjekter/figurer/profitt_fusjon.png')"
   ]
  }
 ],
 "metadata": {
  "kernelspec": {
   "display_name": "Python 3",
   "language": "python",
   "name": "python3"
  },
  "language_info": {
   "codemirror_mode": {
    "name": "ipython",
    "version": 3
   },
   "file_extension": ".py",
   "mimetype": "text/x-python",
   "name": "python",
   "nbconvert_exporter": "python",
   "pygments_lexer": "ipython3",
   "version": "3.11.1"
  }
 },
 "nbformat": 4,
 "nbformat_minor": 2
}
