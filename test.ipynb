{
 "cells": [
  {
   "cell_type": "markdown",
   "id": "4b009b68-5e19-464b-9fc8-5f9474af7493",
   "metadata": {
    "tags": []
   },
   "source": [
    "# Sok-2030 Næringsøkonomi og konkuransestrategi\n",
    "## Del 5 Relasjoner mellom bedrifter\n",
    "### Vertikale fusjoner og dobbel-marginalisering\n",
    "\n",
    "Vi antar at vi har to bedrifter, en oppstrømsbedrift U og en nedstrømsbedrift D.Invers ettersprøsel er gitt ved: P(Q) = A - BQ. Oppstrømsbedriften produserer innsatsfaktor som selges til nedstrømsbedriften til pris lik r. Oppstrømsbedriften har marginalkostnader lik c, og nedstrømsbedriften har kun innkjøpskostander på r. \n",
    "### To-trinns spill: \n",
    "    Trinn 1: Oppstrømsbedriften velger optimal pris r\n",
    "    Trinn 2: Nedstrømsbedriften velger kvantum og pris i sluttbrukermarkedet\n",
    "    \n",
    "Vi bruker baklengs indukjon og starter med Trinn 2."
   ]
  },
  {
   "cell_type": "code",
   "execution_count": 27,
   "id": "772f99a9-c84e-4061-bbc7-a4339877cbfd",
   "metadata": {},
   "outputs": [],
   "source": [
    "import sympy as sp\n",
    "from sympy import *\n",
    "import numpy as np\n",
    "from matplotlib import pyplot as plt"
   ]
  },
  {
   "cell_type": "code",
   "execution_count": 28,
   "id": "9b26cf48-7d58-4b5b-a0a6-0ecd67cff545",
   "metadata": {},
   "outputs": [],
   "source": [
    "#A, B,Qd,Qr,QI,P,c, r=symbols('A B Qd Qr QI P c r')\n",
    "#q_g, q_bm,Q=sp.symbols('q_g  q_bm Q')"
   ]
  },
  {
   "cell_type": "code",
   "execution_count": 29,
   "id": "a4a9c212-1646-4387-8a8a-f12425a4d8ba",
   "metadata": {},
   "outputs": [
    {
     "data": {
      "text/plain": [
       "175"
      ]
     },
     "execution_count": 29,
     "metadata": {},
     "output_type": "execute_result"
    }
   ],
   "source": [
    "a= 175\n",
    "b = 2\n",
    "c = 7\n",
    "\n",
    "def demand(Q):\n",
    "    return (a-b*Q)\n",
    "\n",
    "def marginalrevenue(Q,a,b):\n",
    "    return (a-2*b*Q)\n",
    "\n",
    "def marginalcost(r):\n",
    "    return (r)\n",
    "\n",
    "\n",
    "\n",
    "\n",
    "a\n"
   ]
  },
  {
   "cell_type": "code",
   "execution_count": 30,
   "id": "9ee21f68-6248-412b-9188-eda9806761b7",
   "metadata": {},
   "outputs": [
    {
     "data": {
      "text/latex": [
       "$\\displaystyle 175 - 4 Q = r$"
      ],
      "text/plain": [
       "Eq(175 - 4*Q, r)"
      ]
     },
     "execution_count": 30,
     "metadata": {},
     "output_type": "execute_result"
    }
   ],
   "source": [
    "Q,r = sp.symbols('Q r')\n",
    "equ=sp.Eq(marginalrevenue(Q,a,b),marginalcost(r))\n",
    "equ"
   ]
  },
  {
   "cell_type": "markdown",
   "id": "eef268be-3754-4a5b-b221-173c7f4fb655",
   "metadata": {},
   "source": [
    "### Optimalt kvantum og pris for nedstrømsbedriften"
   ]
  },
  {
   "cell_type": "code",
   "execution_count": 31,
   "id": "ff112db8-35c1-4ec1-b1f5-60dd1e289df6",
   "metadata": {},
   "outputs": [
    {
     "data": {
      "text/latex": [
       "$\\displaystyle \\frac{175}{4} - \\frac{r}{4}$"
      ],
      "text/plain": [
       "175/4 - r/4"
      ]
     },
     "execution_count": 31,
     "metadata": {},
     "output_type": "execute_result"
    }
   ],
   "source": [
    "Qd_equ=sp.solve(equ,Q)[0]\n",
    "Qd_equ"
   ]
  },
  {
   "cell_type": "code",
   "execution_count": 32,
   "id": "5c667178-7777-43cd-9134-6d66667eef50",
   "metadata": {},
   "outputs": [
    {
     "data": {
      "text/latex": [
       "$\\displaystyle \\frac{r}{2} + \\frac{175}{2}$"
      ],
      "text/plain": [
       "r/2 + 175/2"
      ]
     },
     "execution_count": 32,
     "metadata": {},
     "output_type": "execute_result"
    }
   ],
   "source": [
    "P_eq=demand(Qd_equ)\n",
    "P_eq"
   ]
  },
  {
   "cell_type": "markdown",
   "id": "e214a0ca-51b6-4c89-9338-22bff5f30ecf",
   "metadata": {},
   "source": [
    "### Trinn 1. Optimal valg av r\n",
    "Oppstrømsbedriften selger samme kvantum som nedstrømsbedriften(Qd) og står ovenfor etterspørsel lik Q=(A-r)/2B. Invers etter blir da r=A-2BQ."
   ]
  },
  {
   "cell_type": "code",
   "execution_count": 33,
   "id": "002c0d5b-a932-4eb0-a110-1e005f8b3915",
   "metadata": {},
   "outputs": [],
   "source": [
    "q_g, q_bm = sp.symbols('q_g q_bm')\n",
    "# Sjekk hva som skjer med to oppstrømsbedrifter\n",
    "\n",
    "def P_demand(Q,a,b):\n",
    "    return a-b*Q\n",
    "\n",
    "\n",
    "def profit(q_g,q_bm,a,b):\n",
    "    return (P_demand(q_g+q_bm,a,b))*q_g\n",
    "\n"
   ]
  },
  {
   "cell_type": "code",
   "execution_count": 34,
   "id": "8d304578",
   "metadata": {},
   "outputs": [
    {
     "data": {
      "text/latex": [
       "$\\displaystyle 175 - 2 Q$"
      ],
      "text/plain": [
       "175 - 2*Q"
      ]
     },
     "execution_count": 34,
     "metadata": {},
     "output_type": "execute_result"
    }
   ],
   "source": [
    "P_demand(Q,a,b)"
   ]
  },
  {
   "cell_type": "code",
   "execution_count": 35,
   "id": "1a9c0494",
   "metadata": {},
   "outputs": [
    {
     "data": {
      "text/latex": [
       "$\\displaystyle - 2 q_{bm} - 4 q_{g} + 175$"
      ],
      "text/plain": [
       "-2*q_bm - 4*q_g + 175"
      ]
     },
     "metadata": {},
     "output_type": "display_data"
    },
    {
     "data": {
      "text/latex": [
       "$\\displaystyle - 4 q_{bm} - 2 q_{g} + 175$"
      ],
      "text/plain": [
       "-4*q_bm - 2*q_g + 175"
      ]
     },
     "metadata": {},
     "output_type": "display_data"
    }
   ],
   "source": [
    "d_profit1_Q=sp.diff(profit(q_g,q_bm,a,b),q_g)\n",
    "\n",
    "\n",
    "d_profit2_Q=sp.diff(profit(q_bm,q_g,a,b),q_bm)\n",
    "\n",
    "display(d_profit1_Q)\n",
    "display(d_profit2_Q)"
   ]
  },
  {
   "cell_type": "code",
   "execution_count": 36,
   "id": "473d1be8-95e3-4f2b-b49f-33214af3e5c1",
   "metadata": {},
   "outputs": [
    {
     "data": {
      "text/latex": [
       "$\\displaystyle - 2 q_{bm} - 4 q_{g} + 175 = 7$"
      ],
      "text/plain": [
       "Eq(-2*q_bm - 4*q_g + 175, 7)"
      ]
     },
     "execution_count": 36,
     "metadata": {},
     "output_type": "execute_result"
    }
   ],
   "source": [
    "equ=sp.Eq(d_profit1_Q,c)\n",
    "equ"
   ]
  },
  {
   "cell_type": "code",
   "execution_count": 41,
   "id": "5b693912-a383-4c2f-a5e4-958535568d76",
   "metadata": {},
   "outputs": [
    {
     "data": {
      "text/plain": [
       "[84]"
      ]
     },
     "execution_count": 41,
     "metadata": {},
     "output_type": "execute_result"
    }
   ],
   "source": [
    "Qr_equ=sp.solve(equ,q_g)[0]\n",
    "sp.solve(Qr_equ, q_bm)"
   ]
  },
  {
   "cell_type": "code",
   "execution_count": 38,
   "id": "04987f25-1ddf-41a4-8de7-b75e07cf2ea3",
   "metadata": {},
   "outputs": [
    {
     "data": {
      "text/latex": [
       "$\\displaystyle q_{bm} + 91$"
      ],
      "text/plain": [
       "q_bm + 91"
      ]
     },
     "execution_count": 38,
     "metadata": {},
     "output_type": "execute_result"
    }
   ],
   "source": [
    "# optimal pris fra oppstrømsbedriften\n",
    "r_eq=demand(Qr_equ)\n",
    "r_eq"
   ]
  },
  {
   "cell_type": "code",
   "execution_count": 39,
   "id": "e605a2d1-8987-4965-9554-c62f3bf24290",
   "metadata": {},
   "outputs": [
    {
     "ename": "NameError",
     "evalue": "name 'Qd' is not defined",
     "output_type": "error",
     "traceback": [
      "\u001b[1;31m---------------------------------------------------------------------------\u001b[0m",
      "\u001b[1;31mNameError\u001b[0m                                 Traceback (most recent call last)",
      "Cell \u001b[1;32mIn[39], line 2\u001b[0m\n\u001b[0;32m      1\u001b[0m \u001b[38;5;66;03m# Finner pris ved å sette totalt kvantum og pris fra oppstrømsbedriften inn i etterspørselen til nedstrømsbedriften\u001b[39;00m\n\u001b[1;32m----> 2\u001b[0m P_eq\u001b[38;5;241m.\u001b[39msubs({\u001b[43mQd\u001b[49m:Qd_equ,r:r_eq})\n",
      "\u001b[1;31mNameError\u001b[0m: name 'Qd' is not defined"
     ]
    }
   ],
   "source": [
    "# Finner pris ved å sette totalt kvantum og pris fra oppstrømsbedriften inn i etterspørselen til nedstrømsbedriften\n",
    "P_eq.subs({Qd:Qd_equ,r:r_eq})"
   ]
  },
  {
   "cell_type": "code",
   "execution_count": null,
   "id": "f4352933-4dfa-476d-98f7-f5e1a28a262d",
   "metadata": {},
   "outputs": [
    {
     "data": {
      "text/latex": [
       "$\\displaystyle 21 - \\frac{q_{bm}}{4}$"
      ],
      "text/plain": [
       "21 - q_bm/4"
      ]
     },
     "execution_count": 23,
     "metadata": {},
     "output_type": "execute_result"
    }
   ],
   "source": [
    "# Optimal kvantum i sluttmarkedet:\n",
    "Qd_opt=Qd_equ.subs({r:r_eq})\n",
    "sp.simplify(Qd_opt)"
   ]
  },
  {
   "cell_type": "code",
   "execution_count": null,
   "id": "b738fc51-1df7-4024-bf39-08ca4e55b4db",
   "metadata": {},
   "outputs": [
    {
     "data": {
      "text/latex": [
       "$\\displaystyle 3528 - \\frac{q_{bm}^{2}}{2}$"
      ],
      "text/plain": [
       "3528 - q_bm**2/2"
      ]
     },
     "execution_count": 24,
     "metadata": {},
     "output_type": "execute_result"
    }
   ],
   "source": [
    "# profitt for oppstrømsbedriften\n",
    "def profitt(Qr):\n",
    "    return (r_eq-marginalcost(c))*Qr_equ\n",
    "\n",
    "sp.simplify(profitt(Qr_equ))"
   ]
  },
  {
   "cell_type": "code",
   "execution_count": null,
   "id": "eedb2947-7dd3-41a1-9cb8-57729c773293",
   "metadata": {},
   "outputs": [
    {
     "data": {
      "text/latex": [
       "$\\displaystyle \\frac{\\left(q_{bm} - 84\\right)^{2}}{8}$"
      ],
      "text/plain": [
       "(q_bm - 84)**2/8"
      ]
     },
     "execution_count": 25,
     "metadata": {},
     "output_type": "execute_result"
    }
   ],
   "source": [
    "# profitt for nedstrømsbedriften\n",
    "def profitt(Qd):\n",
    "    return (P_eq.subs({Qd:Qd_equ,r:r_eq})-r_eq)*Qd_equ.subs({Qd:Qd_equ,r:r_eq})\n",
    "\n",
    "sp.simplify(profitt(Qr_equ))"
   ]
  },
  {
   "cell_type": "markdown",
   "id": "d283a1ae-430f-4515-8d2c-2025d517d6be",
   "metadata": {},
   "source": [
    "## Vertikal integrasjon\n",
    "Anta at oppstrøms- og nedstrømabedriften fusjonerer, og vil da opptre som en monopolist."
   ]
  },
  {
   "cell_type": "code",
   "execution_count": null,
   "id": "2a170129-b37e-4b0f-ab37-527a15dee82d",
   "metadata": {},
   "outputs": [],
   "source": [
    "def demand(QI):\n",
    "    return (A-B*QI)\n",
    "\n",
    "def marginalrevenue(QI):\n",
    "    return (A-2*B*QI)\n",
    "\n",
    "def marginalcost(c):\n",
    "    return (c)"
   ]
  },
  {
   "cell_type": "code",
   "execution_count": null,
   "id": "fbb517f5-387a-4985-9208-fa6de189ee30",
   "metadata": {},
   "outputs": [
    {
     "ename": "NameError",
     "evalue": "name 'A' is not defined",
     "output_type": "error",
     "traceback": [
      "\u001b[1;31m---------------------------------------------------------------------------\u001b[0m",
      "\u001b[1;31mNameError\u001b[0m                                 Traceback (most recent call last)",
      "Cell \u001b[1;32mIn[27], line 2\u001b[0m\n\u001b[0;32m      1\u001b[0m QI\u001b[38;5;241m=\u001b[39msp\u001b[38;5;241m.\u001b[39msymbols(\u001b[38;5;124m'\u001b[39m\u001b[38;5;124mQI\u001b[39m\u001b[38;5;124m'\u001b[39m, real\u001b[38;5;241m=\u001b[39m\u001b[38;5;28;01mTrue\u001b[39;00m, positive\u001b[38;5;241m=\u001b[39m\u001b[38;5;28;01mTrue\u001b[39;00m)\n\u001b[1;32m----> 2\u001b[0m equ\u001b[38;5;241m=\u001b[39msp\u001b[38;5;241m.\u001b[39mEq(\u001b[43mmarginalrevenue\u001b[49m\u001b[43m(\u001b[49m\u001b[43mQI\u001b[49m\u001b[43m)\u001b[49m,marginalcost(c))\n\u001b[0;32m      3\u001b[0m equ\n",
      "Cell \u001b[1;32mIn[26], line 5\u001b[0m, in \u001b[0;36mmarginalrevenue\u001b[1;34m(QI)\u001b[0m\n\u001b[0;32m      4\u001b[0m \u001b[38;5;28;01mdef\u001b[39;00m \u001b[38;5;21mmarginalrevenue\u001b[39m(QI):\n\u001b[1;32m----> 5\u001b[0m     \u001b[38;5;28;01mreturn\u001b[39;00m (\u001b[43mA\u001b[49m\u001b[38;5;241m-\u001b[39m\u001b[38;5;241m2\u001b[39m\u001b[38;5;241m*\u001b[39mB\u001b[38;5;241m*\u001b[39mQI)\n",
      "\u001b[1;31mNameError\u001b[0m: name 'A' is not defined"
     ]
    }
   ],
   "source": [
    "QI=sp.symbols('QI', real=True, positive=True)\n",
    "equ=sp.Eq(marginalrevenue(QI),marginalcost(c))\n",
    "equ"
   ]
  },
  {
   "cell_type": "markdown",
   "id": "5f105a41-bec6-40ba-80dc-c577b1cdaf88",
   "metadata": {},
   "source": [
    "Optimal kvantum og pris for monopolisten:"
   ]
  },
  {
   "cell_type": "code",
   "execution_count": null,
   "id": "615163f5-691c-46be-95d4-9c3706392b5c",
   "metadata": {},
   "outputs": [
    {
     "data": {
      "text/latex": [
       "$\\displaystyle \\frac{A - 7}{2 B}$"
      ],
      "text/plain": [
       "(A - 7)/(2*B)"
      ]
     },
     "execution_count": 446,
     "metadata": {},
     "output_type": "execute_result"
    }
   ],
   "source": [
    "QI_equ=sp.solve(equ,QI)[0]\n",
    "QI_equ"
   ]
  },
  {
   "cell_type": "code",
   "execution_count": null,
   "id": "60a61620-8d3f-4a75-8a5b-11cd295c62c3",
   "metadata": {},
   "outputs": [
    {
     "data": {
      "text/latex": [
       "$\\displaystyle \\frac{A}{2} + \\frac{7}{2}$"
      ],
      "text/plain": [
       "A/2 + 7/2"
      ]
     },
     "execution_count": 447,
     "metadata": {},
     "output_type": "execute_result"
    }
   ],
   "source": [
    "P_eq=demand(QI_equ)\n",
    "P_eq"
   ]
  },
  {
   "cell_type": "code",
   "execution_count": null,
   "id": "1b57f140-087c-43c2-a2b4-2c996b1362b0",
   "metadata": {},
   "outputs": [
    {
     "data": {
      "text/latex": [
       "$\\displaystyle -500 + \\frac{\\left(A - 7\\right)^{2}}{4 B}$"
      ],
      "text/plain": [
       "-500 + (A - 7)**2/(4*B)"
      ]
     },
     "execution_count": 448,
     "metadata": {},
     "output_type": "execute_result"
    }
   ],
   "source": [
    "# profitt for den integrerte bedriften\n",
    "def profitt(Qr):\n",
    "    return (P_eq-marginalcost(c))*QI_equ-500\n",
    "\n",
    "sp.simplify(profitt(Qr_equ))"
   ]
  }
 ],
 "metadata": {
  "kernelspec": {
   "display_name": "Python 3 (ipykernel)",
   "language": "python",
   "name": "python3"
  },
  "language_info": {
   "codemirror_mode": {
    "name": "ipython",
    "version": 3
   },
   "file_extension": ".py",
   "mimetype": "text/x-python",
   "name": "python",
   "nbconvert_exporter": "python",
   "pygments_lexer": "ipython3",
   "version": "3.11.1"
  }
 },
 "nbformat": 4,
 "nbformat_minor": 5
}
